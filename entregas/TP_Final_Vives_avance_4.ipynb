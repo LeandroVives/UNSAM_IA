{
  "nbformat": 4,
  "nbformat_minor": 0,
  "metadata": {
    "kernelspec": {
      "display_name": "Python 3",
      "language": "python",
      "name": "python3"
    },
    "language_info": {
      "codemirror_mode": {
        "name": "ipython",
        "version": 3
      },
      "file_extension": ".py",
      "mimetype": "text/x-python",
      "name": "python",
      "nbconvert_exporter": "python",
      "pygments_lexer": "ipython3",
      "version": "3.7.6"
    },
    "colab": {
      "name": "TP_Final_Vives_2020.ipynb",
      "provenance": [],
      "collapsed_sections": []
    }
  },
  "cells": [
    {
      "cell_type": "markdown",
      "metadata": {
        "id": "Uj_d6QGq1bhD",
        "colab_type": "text"
      },
      "source": [
        "**Trabajo Final de Aprendizaje Automático.\n",
        "Alumno: Leandro Vives.\n",
        "Carrera de Doctorado en Ciencias Aplicadas y de la Ingeniería.**"
      ]
    },
    {
      "cell_type": "markdown",
      "metadata": {
        "id": "Ln3kmB74PwLa",
        "colab_type": "text"
      },
      "source": [
        "El trabajo que aquí se plantea es un problema de clasificación binaria basado en la antropometría del deporte, es decir, la idea de que hay deportistas cuyas medidas corporales los hacen más aptos para determinados deportes. De acuerdo a esto y tomando como base de datos el peso y la altura de deportistas que participaron en los juegos olímpicos de Londres de 2012, se busca entrenar un clasificador que pueda discriminar a qué deporte podría pertenecer. Se realiza una clasificación entre dos deportes distintos como ser el Hockey y el Vóley, ya que se han analizado en primera instancia dos deportes con medidas antropométricas similares como el Vóley y el Básquet y resulta muy difícil la clasificación a partir de estas dos medidas solamente. Esta variabilidad se debe a las distintas posiciones y funciones dentro del juego, lo que a veces lleva a desviaciones grandes."
      ]
    },
    {
      "cell_type": "markdown",
      "metadata": {
        "id": "DqBgdVQnQYGr",
        "colab_type": "text"
      },
      "source": [
        "Los datos fueron obtenidos del siguiente link:\n",
        " https://docs.google.com/spreadsheets/d/1Y4xQqDuOVbn4mkEFUhW_xE5bgAy51raR1vlNZeXyl3Y/edit#gid=0"
      ]
    },
    {
      "cell_type": "code",
      "metadata": {
        "id": "02QVeRzlQi42",
        "colab_type": "code",
        "colab": {
          "base_uri": "https://localhost:8080/",
          "height": 74
        },
        "outputId": "6b8e184b-bff0-4d91-8428-12cc852f1186"
      },
      "source": [
        "import numpy as np\n",
        "import pandas as pd\n",
        "import matplotlib.pyplot as plt\n",
        "import seaborn as sns"
      ],
      "execution_count": 1,
      "outputs": [
        {
          "output_type": "stream",
          "text": [
            "/usr/local/lib/python3.6/dist-packages/statsmodels/tools/_testing.py:19: FutureWarning: pandas.util.testing is deprecated. Use the functions in the public API at pandas.testing instead.\n",
            "  import pandas.util.testing as tm\n"
          ],
          "name": "stderr"
        }
      ]
    },
    {
      "cell_type": "code",
      "metadata": {
        "id": "2YkqHF6bkX6A",
        "colab_type": "code",
        "colab": {}
      },
      "source": [
        "from matplotlib.colors import ListedColormap\n",
        "%matplotlib inline\n",
        "\n",
        "\n",
        "DEFAULT_AXIS=[-0.2, 1.5, -0.3, 1.3]\n",
        "\n",
        "def plot_dataset(X, y, axes=DEFAULT_AXIS):\n",
        "    plt.plot(X[:, 0][y==0], X[:, 1][y==0], \"bs\")\n",
        "    plt.plot(X[:, 0][y==1], X[:, 1][y==1], \"g^\")\n",
        "    plt.axis(axes)\n",
        "    plt.grid(True, which='both')\n",
        "    plt.xlabel(r\"$x_1$\", fontsize=20)\n",
        "    plt.ylabel(r\"$x_2$\", fontsize=20, rotation=0)\n",
        "\n",
        "def plot_predictions(clf, axes=DEFAULT_AXIS, plot_sv=False, plot_cont=True):\n",
        "    x0s = np.linspace(axes[0], axes[1], 100)\n",
        "    x1s = np.linspace(axes[2], axes[3], 100)\n",
        "    x0, x1 = np.meshgrid(x0s, x1s)\n",
        "    X = np.c_[x0.ravel(), x1.ravel()]\n",
        "    y_pred = clf.predict(X).reshape(x0.shape)\n",
        "    y_decision = clf.decision_function(X).reshape(x0.shape)\n",
        "    plt.contourf(x0, x1, y_pred, cmap=plt.cm.brg, alpha=0.2)\n",
        "    if plot_cont:\n",
        "        plt.contourf(x0, x1, y_decision, cmap=plt.cm.brg, alpha=0.1)\n",
        "    if plot_sv:\n",
        "        try:\n",
        "            svs = clf[:-1].inverse_transform(clf.steps[-1][1].support_vectors_)\n",
        "            plt.scatter(svs[:, 0], svs[:, 1], s=180, facecolors='#FFAAAA')\n",
        "        except:\n",
        "            print(\"LinearSVC no guarda los Support Vectors, para eso us SVC con kernel='linear'\")\n",
        "      \n",
        "def plot_decision_boundary(clf, X, y, axes=DEFAULT_AXIS, alpha=0.5, contour=True):\n",
        "    x1s = np.linspace(axes[0], axes[1], 100)\n",
        "    x2s = np.linspace(axes[2], axes[3], 100)\n",
        "    x1, x2 = np.meshgrid(x1s, x2s)\n",
        "    X_new = np.c_[x1.ravel(), x2.ravel()]\n",
        "    y_pred = clf.predict(X_new).reshape(x1.shape)\n",
        "    custom_cmap = ListedColormap(['#fafab0','#9898ff','#a0faa0'])\n",
        "    plt.contourf(x1, x2, y_pred, alpha=0.3, cmap=custom_cmap)\n",
        "    if contour:\n",
        "        custom_cmap2 = ListedColormap(['#7d7d58','#4c4c7f','#507d50'])\n",
        "        plt.contour(x1, x2, y_pred, cmap=custom_cmap2, alpha=0.8)\n",
        "    plt.plot(X[:, 0][y==0], X[:, 1][y==0], \"yo\", alpha=alpha)\n",
        "    plt.plot(X[:, 0][y==1], X[:, 1][y==1], \"bs\", alpha=alpha)\n",
        "    plt.axis(axes)\n",
        "    plt.xlabel(r\"$x_1$\", fontsize=18)\n",
        "    plt.ylabel(r\"$x_2$\", fontsize=18, rotation=0)"
      ],
      "execution_count": 2,
      "outputs": []
    },
    {
      "cell_type": "markdown",
      "metadata": {
        "id": "wU7A4vloRRyZ",
        "colab_type": "text"
      },
      "source": [
        "Realizo la lectura de los datos de un archivo .csv que posee la edad, altura (en cm) y peso (en kg) de distintos deportistas hombres y mujeres de Vóley y Hockey. Los deportistas estaban mezclados por deportes aleatoriamente, por lo que no hizo falta tener que hacer una mezcla en el procesado de datos."
      ]
    },
    {
      "cell_type": "code",
      "metadata": {
        "id": "p6OjVs3iQi5-",
        "colab_type": "code",
        "colab": {
          "base_uri": "https://localhost:8080/",
          "height": 198
        },
        "outputId": "0babb5d8-93a6-4cdb-b1da-850320c43b12"
      },
      "source": [
        "# Leo los datos\n",
        "df1 = pd.read_csv('Hockey_Volley.csv',sep=';', header=0)\n",
        "df1.head()"
      ],
      "execution_count": 3,
      "outputs": [
        {
          "output_type": "execute_result",
          "data": {
            "text/html": [
              "<div>\n",
              "<style scoped>\n",
              "    .dataframe tbody tr th:only-of-type {\n",
              "        vertical-align: middle;\n",
              "    }\n",
              "\n",
              "    .dataframe tbody tr th {\n",
              "        vertical-align: top;\n",
              "    }\n",
              "\n",
              "    .dataframe thead th {\n",
              "        text-align: right;\n",
              "    }\n",
              "</style>\n",
              "<table border=\"1\" class=\"dataframe\">\n",
              "  <thead>\n",
              "    <tr style=\"text-align: right;\">\n",
              "      <th></th>\n",
              "      <th>Age_M</th>\n",
              "      <th>Height_M</th>\n",
              "      <th>Weight_M</th>\n",
              "      <th>Sport_M</th>\n",
              "      <th>Age_F</th>\n",
              "      <th>Height_F</th>\n",
              "      <th>Weight_F</th>\n",
              "      <th>Sport_F</th>\n",
              "    </tr>\n",
              "  </thead>\n",
              "  <tbody>\n",
              "    <tr>\n",
              "      <th>0</th>\n",
              "      <td>27</td>\n",
              "      <td>184</td>\n",
              "      <td>75</td>\n",
              "      <td>Hockey</td>\n",
              "      <td>26</td>\n",
              "      <td>171</td>\n",
              "      <td>60</td>\n",
              "      <td>Volleyball</td>\n",
              "    </tr>\n",
              "    <tr>\n",
              "      <th>1</th>\n",
              "      <td>31</td>\n",
              "      <td>171</td>\n",
              "      <td>71</td>\n",
              "      <td>Hockey</td>\n",
              "      <td>17</td>\n",
              "      <td>175</td>\n",
              "      <td>60</td>\n",
              "      <td>Volleyball</td>\n",
              "    </tr>\n",
              "    <tr>\n",
              "      <th>2</th>\n",
              "      <td>29</td>\n",
              "      <td>200</td>\n",
              "      <td>96</td>\n",
              "      <td>Volleyball</td>\n",
              "      <td>33</td>\n",
              "      <td>171</td>\n",
              "      <td>61</td>\n",
              "      <td>Hockey</td>\n",
              "    </tr>\n",
              "    <tr>\n",
              "      <th>3</th>\n",
              "      <td>26</td>\n",
              "      <td>194</td>\n",
              "      <td>88</td>\n",
              "      <td>Volleyball</td>\n",
              "      <td>23</td>\n",
              "      <td>184</td>\n",
              "      <td>80</td>\n",
              "      <td>Volleyball</td>\n",
              "    </tr>\n",
              "    <tr>\n",
              "      <th>4</th>\n",
              "      <td>31</td>\n",
              "      <td>201</td>\n",
              "      <td>86</td>\n",
              "      <td>Volleyball</td>\n",
              "      <td>24</td>\n",
              "      <td>191</td>\n",
              "      <td>79</td>\n",
              "      <td>Volleyball</td>\n",
              "    </tr>\n",
              "  </tbody>\n",
              "</table>\n",
              "</div>"
            ],
            "text/plain": [
              "   Age_M  Height_M  Weight_M     Sport_M  Age_F  Height_F  Weight_F     Sport_F\n",
              "0     27       184        75      Hockey     26       171        60  Volleyball\n",
              "1     31       171        71      Hockey     17       175        60  Volleyball\n",
              "2     29       200        96  Volleyball     33       171        61      Hockey\n",
              "3     26       194        88  Volleyball     23       184        80  Volleyball\n",
              "4     31       201        86  Volleyball     24       191        79  Volleyball"
            ]
          },
          "metadata": {
            "tags": []
          },
          "execution_count": 3
        }
      ]
    },
    {
      "cell_type": "markdown",
      "metadata": {
        "id": "mtNXOJOD43cw",
        "colab_type": "text"
      },
      "source": [
        "Denomino ambos deportes con los siguientes labels: Hockey = 1 y Volleyball = 0.\n"
      ]
    },
    {
      "cell_type": "code",
      "metadata": {
        "id": "0IvIiTr89PIo",
        "colab_type": "code",
        "colab": {
          "base_uri": "https://localhost:8080/",
          "height": 199
        },
        "outputId": "720b5251-1c10-480e-9cf6-09a267ed16c8"
      },
      "source": [
        "# Convierto el frame de pandas a un np.array\n",
        "sport_1=df1.to_numpy()\n",
        "print(sport_1[:10,:])"
      ],
      "execution_count": 4,
      "outputs": [
        {
          "output_type": "stream",
          "text": [
            "[[27 184 75 'Hockey' 26 171 60 'Volleyball']\n",
            " [31 171 71 'Hockey' 17 175 60 'Volleyball']\n",
            " [29 200 96 'Volleyball' 33 171 61 'Hockey']\n",
            " [26 194 88 'Volleyball' 23 184 80 'Volleyball']\n",
            " [31 201 86 'Volleyball' 24 191 79 'Volleyball']\n",
            " [34 183 78 'Hockey' 27 155 51 'Hockey']\n",
            " [25 208 93 'Volleyball' 28 186 80 'Volleyball']\n",
            " [31 200 97 'Volleyball' 20 192 68 'Volleyball']\n",
            " [29 203 106 'Volleyball' 27 185 72 'Volleyball']\n",
            " [31 186 78 'Hockey' 25 164 60 'Hockey']]\n"
          ],
          "name": "stdout"
        }
      ]
    },
    {
      "cell_type": "code",
      "metadata": {
        "id": "Ds-mtvvN8V-J",
        "colab_type": "code",
        "colab": {}
      },
      "source": [
        "for i in range(0, len(sport_1[:,3])):\n",
        "  if sport_1[i,3] == 'Hockey':\n",
        "    sport_1[i,3] = 1\n",
        "  else:\n",
        "      sport_1[i,3] = 0\n"
      ],
      "execution_count": 5,
      "outputs": []
    },
    {
      "cell_type": "code",
      "metadata": {
        "id": "tMsBmkuUCVIf",
        "colab_type": "code",
        "colab": {}
      },
      "source": [
        "for i in range(0, len(sport_1[:,7])):\n",
        "  if sport_1[i,7] == 'Hockey':\n",
        "    sport_1[i,7] = 1\n",
        "  else:\n",
        "      sport_1[i,7] = 0\n"
      ],
      "execution_count": 6,
      "outputs": []
    },
    {
      "cell_type": "markdown",
      "metadata": {
        "id": "Vaz8ZSw5staj",
        "colab_type": "text"
      },
      "source": [
        "Se observa que los labels están bien asignados en cada caso."
      ]
    },
    {
      "cell_type": "code",
      "metadata": {
        "id": "maHedykcCfRE",
        "colab_type": "code",
        "colab": {
          "base_uri": "https://localhost:8080/",
          "height": 199
        },
        "outputId": "a8a8661b-92f5-45c4-fc1f-fb8e220ba3e3"
      },
      "source": [
        "print(sport_1[:10,:])"
      ],
      "execution_count": 7,
      "outputs": [
        {
          "output_type": "stream",
          "text": [
            "[[27 184 75 1 26 171 60 0]\n",
            " [31 171 71 1 17 175 60 0]\n",
            " [29 200 96 0 33 171 61 1]\n",
            " [26 194 88 0 23 184 80 0]\n",
            " [31 201 86 0 24 191 79 0]\n",
            " [34 183 78 1 27 155 51 1]\n",
            " [25 208 93 0 28 186 80 0]\n",
            " [31 200 97 0 20 192 68 0]\n",
            " [29 203 106 0 27 185 72 0]\n",
            " [31 186 78 1 25 164 60 1]]\n"
          ],
          "name": "stdout"
        }
      ]
    },
    {
      "cell_type": "markdown",
      "metadata": {
        "id": "AiDofMXNXF1x",
        "colab_type": "text"
      },
      "source": [
        "Separo en grupos de hombres y mujeres, ya que las medidas antropométricas son distintas y podrían llevar a errores. Además elimino el dato de la edad ya que no tiene relación en este caso con el label que se quiere predecir. "
      ]
    },
    {
      "cell_type": "code",
      "metadata": {
        "id": "amIsV55lO8eT",
        "colab_type": "code",
        "colab": {
          "base_uri": "https://localhost:8080/",
          "height": 35
        },
        "outputId": "5080ed0c-3ce3-428f-d641-759a4ba3bb2d"
      },
      "source": [
        "sport_1_M = sport_1[:,1:4]\n",
        "sport_1_F = sport_1[:,5:8]\n",
        "print(sport_1_M.shape,sport_1_F.shape)"
      ],
      "execution_count": 8,
      "outputs": [
        {
          "output_type": "stream",
          "text": [
            "(305, 3) (305, 3)\n"
          ],
          "name": "stdout"
        }
      ]
    },
    {
      "cell_type": "code",
      "metadata": {
        "id": "-6iXXVCNk8L9",
        "colab_type": "code",
        "colab": {
          "base_uri": "https://localhost:8080/",
          "height": 198
        },
        "outputId": "771938f7-901f-437d-d692-ae5d460e12cf"
      },
      "source": [
        "df_M = pd.DataFrame(sport_1_M)\n",
        "df_M.columns = ['Height_M','Weight_M','Sport_M']\n",
        "df_M.head()"
      ],
      "execution_count": 9,
      "outputs": [
        {
          "output_type": "execute_result",
          "data": {
            "text/html": [
              "<div>\n",
              "<style scoped>\n",
              "    .dataframe tbody tr th:only-of-type {\n",
              "        vertical-align: middle;\n",
              "    }\n",
              "\n",
              "    .dataframe tbody tr th {\n",
              "        vertical-align: top;\n",
              "    }\n",
              "\n",
              "    .dataframe thead th {\n",
              "        text-align: right;\n",
              "    }\n",
              "</style>\n",
              "<table border=\"1\" class=\"dataframe\">\n",
              "  <thead>\n",
              "    <tr style=\"text-align: right;\">\n",
              "      <th></th>\n",
              "      <th>Height_M</th>\n",
              "      <th>Weight_M</th>\n",
              "      <th>Sport_M</th>\n",
              "    </tr>\n",
              "  </thead>\n",
              "  <tbody>\n",
              "    <tr>\n",
              "      <th>0</th>\n",
              "      <td>184</td>\n",
              "      <td>75</td>\n",
              "      <td>1</td>\n",
              "    </tr>\n",
              "    <tr>\n",
              "      <th>1</th>\n",
              "      <td>171</td>\n",
              "      <td>71</td>\n",
              "      <td>1</td>\n",
              "    </tr>\n",
              "    <tr>\n",
              "      <th>2</th>\n",
              "      <td>200</td>\n",
              "      <td>96</td>\n",
              "      <td>0</td>\n",
              "    </tr>\n",
              "    <tr>\n",
              "      <th>3</th>\n",
              "      <td>194</td>\n",
              "      <td>88</td>\n",
              "      <td>0</td>\n",
              "    </tr>\n",
              "    <tr>\n",
              "      <th>4</th>\n",
              "      <td>201</td>\n",
              "      <td>86</td>\n",
              "      <td>0</td>\n",
              "    </tr>\n",
              "  </tbody>\n",
              "</table>\n",
              "</div>"
            ],
            "text/plain": [
              "  Height_M Weight_M Sport_M\n",
              "0      184       75       1\n",
              "1      171       71       1\n",
              "2      200       96       0\n",
              "3      194       88       0\n",
              "4      201       86       0"
            ]
          },
          "metadata": {
            "tags": []
          },
          "execution_count": 9
        }
      ]
    },
    {
      "cell_type": "code",
      "metadata": {
        "id": "quNEZ6lalDiC",
        "colab_type": "code",
        "colab": {
          "base_uri": "https://localhost:8080/",
          "height": 198
        },
        "outputId": "06e1a69c-69fe-4233-b330-b46aac11884e"
      },
      "source": [
        "df_F = pd.DataFrame(sport_1_F)\n",
        "df_F.columns = ['Height_F','Weight_F','Sport_F']\n",
        "df_F.head()"
      ],
      "execution_count": 10,
      "outputs": [
        {
          "output_type": "execute_result",
          "data": {
            "text/html": [
              "<div>\n",
              "<style scoped>\n",
              "    .dataframe tbody tr th:only-of-type {\n",
              "        vertical-align: middle;\n",
              "    }\n",
              "\n",
              "    .dataframe tbody tr th {\n",
              "        vertical-align: top;\n",
              "    }\n",
              "\n",
              "    .dataframe thead th {\n",
              "        text-align: right;\n",
              "    }\n",
              "</style>\n",
              "<table border=\"1\" class=\"dataframe\">\n",
              "  <thead>\n",
              "    <tr style=\"text-align: right;\">\n",
              "      <th></th>\n",
              "      <th>Height_F</th>\n",
              "      <th>Weight_F</th>\n",
              "      <th>Sport_F</th>\n",
              "    </tr>\n",
              "  </thead>\n",
              "  <tbody>\n",
              "    <tr>\n",
              "      <th>0</th>\n",
              "      <td>171</td>\n",
              "      <td>60</td>\n",
              "      <td>0</td>\n",
              "    </tr>\n",
              "    <tr>\n",
              "      <th>1</th>\n",
              "      <td>175</td>\n",
              "      <td>60</td>\n",
              "      <td>0</td>\n",
              "    </tr>\n",
              "    <tr>\n",
              "      <th>2</th>\n",
              "      <td>171</td>\n",
              "      <td>61</td>\n",
              "      <td>1</td>\n",
              "    </tr>\n",
              "    <tr>\n",
              "      <th>3</th>\n",
              "      <td>184</td>\n",
              "      <td>80</td>\n",
              "      <td>0</td>\n",
              "    </tr>\n",
              "    <tr>\n",
              "      <th>4</th>\n",
              "      <td>191</td>\n",
              "      <td>79</td>\n",
              "      <td>0</td>\n",
              "    </tr>\n",
              "  </tbody>\n",
              "</table>\n",
              "</div>"
            ],
            "text/plain": [
              "  Height_F Weight_F Sport_F\n",
              "0      171       60       0\n",
              "1      175       60       0\n",
              "2      171       61       1\n",
              "3      184       80       0\n",
              "4      191       79       0"
            ]
          },
          "metadata": {
            "tags": []
          },
          "execution_count": 10
        }
      ]
    },
    {
      "cell_type": "code",
      "metadata": {
        "id": "GW3bHOhcP6Jj",
        "colab_type": "code",
        "colab": {}
      },
      "source": [
        "XM_1=sport_1_M[:,:2]\n",
        "yM_1=sport_1_M[:,2]\n",
        "XF_1=sport_1_F[:,:2]\n",
        "yF_1=sport_1_F[:,2]"
      ],
      "execution_count": 11,
      "outputs": []
    },
    {
      "cell_type": "code",
      "metadata": {
        "id": "elXPT-jtOpuH",
        "colab_type": "code",
        "colab": {}
      },
      "source": [
        "from sklearn.model_selection import train_test_split\n",
        "from sklearn.preprocessing import StandardScaler"
      ],
      "execution_count": 12,
      "outputs": []
    },
    {
      "cell_type": "markdown",
      "metadata": {
        "id": "w9SM-E5KW_6S",
        "colab_type": "text"
      },
      "source": [
        "Divido cada grupo en sets de train y test."
      ]
    },
    {
      "cell_type": "code",
      "metadata": {
        "id": "NOxmYnZAOtgk",
        "colab_type": "code",
        "colab": {}
      },
      "source": [
        "XM1_train, XM1_test, yM1_train, yM1_test = train_test_split(XM_1, yM_1, test_size=0.3, random_state=42)\n",
        "XF1_train, XF1_test, yF1_train, yF1_test = train_test_split(XF_1, yF_1, test_size=0.3, random_state=42)"
      ],
      "execution_count": 13,
      "outputs": []
    },
    {
      "cell_type": "code",
      "metadata": {
        "id": "f-Dddm3hQqSB",
        "colab_type": "code",
        "colab": {
          "base_uri": "https://localhost:8080/",
          "height": 35
        },
        "outputId": "066bc8ba-1935-4285-9f54-b0b99051e859"
      },
      "source": [
        "print(yM1_train.shape,yM1_test.shape)"
      ],
      "execution_count": 14,
      "outputs": [
        {
          "output_type": "stream",
          "text": [
            "(213,) (92,)\n"
          ],
          "name": "stdout"
        }
      ]
    },
    {
      "cell_type": "markdown",
      "metadata": {
        "id": "YRR5-rgDWxqE",
        "colab_type": "text"
      },
      "source": [
        "Defino el tipo de número dentro de 'y' porque si no no funciona el entrenamiento."
      ]
    },
    {
      "cell_type": "code",
      "metadata": {
        "id": "1lAMI5KNWlYl",
        "colab_type": "code",
        "colab": {}
      },
      "source": [
        "yM1_train=yM1_train.astype('int')\n",
        "yM1_test=yM1_test.astype('int')\n",
        "yF1_train=yF1_train.astype('int')\n",
        "yF1_test=yF1_test.astype('int') "
      ],
      "execution_count": 15,
      "outputs": []
    },
    {
      "cell_type": "code",
      "metadata": {
        "id": "RJbDgmq3Pbc6",
        "colab_type": "code",
        "colab": {}
      },
      "source": [
        "from sklearn.metrics import confusion_matrix, accuracy_score, recall_score, precision_score\n",
        "from sklearn.pipeline import Pipeline\n",
        "from sklearn.model_selection import cross_val_score, RandomizedSearchCV\n",
        "from scipy.stats import reciprocal,uniform"
      ],
      "execution_count": 16,
      "outputs": []
    },
    {
      "cell_type": "markdown",
      "metadata": {
        "id": "zSzRGqTWXMHT",
        "colab_type": "text"
      },
      "source": [
        "Hago un escalado de los datos."
      ]
    },
    {
      "cell_type": "code",
      "metadata": {
        "id": "u267zjCMPeXR",
        "colab_type": "code",
        "colab": {}
      },
      "source": [
        "from sklearn.preprocessing import StandardScaler\n",
        "scaler = StandardScaler()\n",
        "XM_train_1 = scaler.fit_transform(XM1_train)\n",
        "XM_test_1 = scaler.transform(XM1_test)\n",
        "XF_train_1 = scaler.fit_transform(XF1_train)\n",
        "XF_test_1 = scaler.transform(XF1_test)"
      ],
      "execution_count": 17,
      "outputs": []
    },
    {
      "cell_type": "code",
      "metadata": {
        "id": "w4c7XXjkQ9K6",
        "colab_type": "code",
        "colab": {
          "base_uri": "https://localhost:8080/",
          "height": 35
        },
        "outputId": "c01a7644-dc05-4beb-c5b7-1fad994a8cf5"
      },
      "source": [
        "print(XM_train_1.shape, yM1_train.shape)"
      ],
      "execution_count": 18,
      "outputs": [
        {
          "output_type": "stream",
          "text": [
            "(213, 2) (213,)\n"
          ],
          "name": "stdout"
        }
      ]
    },
    {
      "cell_type": "code",
      "metadata": {
        "id": "Z_3PIO41kreJ",
        "colab_type": "code",
        "colab": {
          "base_uri": "https://localhost:8080/",
          "height": 90
        },
        "outputId": "9bd96387-f169-4bed-8279-a36c2ed74cdb"
      },
      "source": [
        "print(np.min(XM_train_1[:,0]),np.max(XM_train_1[:,0]))\n",
        "print(np.min(XM_train_1[:,1]),np.max(XM_train_1[:,1]))\n",
        "print(np.min(XF_train_1[:,0]),np.max(XF_train_1[:,0]))\n",
        "print(np.min(XF_train_1[:,1]),np.max(XF_train_1[:,1]))"
      ],
      "execution_count": 19,
      "outputs": [
        {
          "output_type": "stream",
          "text": [
            "-3.0822569827372077 2.3983642866553567\n",
            "-3.238322869387113 3.230730084230284\n",
            "-1.9505370058990552 2.879320960347155\n",
            "-1.7146134931379786 3.960988873674831\n"
          ],
          "name": "stdout"
        }
      ]
    },
    {
      "cell_type": "markdown",
      "metadata": {
        "id": "zaewvadGYZMT",
        "colab_type": "text"
      },
      "source": [
        "Defino los límites en los ejes para cada sexo."
      ]
    },
    {
      "cell_type": "code",
      "metadata": {
        "id": "8PhAB2qClAiD",
        "colab_type": "code",
        "colab": {}
      },
      "source": [
        "Axis_M= [-3.5, 3, -3.5, 3.5]\n",
        "Axis_F= [-2, 3, -2, 4]"
      ],
      "execution_count": 20,
      "outputs": []
    },
    {
      "cell_type": "code",
      "metadata": {
        "id": "jQEh0Bn-li45",
        "colab_type": "code",
        "colab": {
          "base_uri": "https://localhost:8080/",
          "height": 288
        },
        "outputId": "3a86cbd1-3fec-4498-a158-30813543b525"
      },
      "source": [
        "plot_dataset(XM_train_1, yM1_train, axes=Axis_M)"
      ],
      "execution_count": 21,
      "outputs": [
        {
          "output_type": "display_data",
          "data": {
            "image/png": "[encoded data removed]",
            "text/plain": [
              "<Figure size 432x288 with 1 Axes>"
            ]
          },
          "metadata": {
            "tags": [],
            "needs_background": "light"
          }
        }
      ]
    },
    {
      "cell_type": "code",
      "metadata": {
        "id": "YB9xDqholvoj",
        "colab_type": "code",
        "colab": {
          "base_uri": "https://localhost:8080/",
          "height": 292
        },
        "outputId": "761df747-b75c-4c03-da00-576489899991"
      },
      "source": [
        "plot_dataset(XF_train_1, yF1_train, axes=Axis_F)"
      ],
      "execution_count": 22,
      "outputs": [
        {
          "output_type": "display_data",
          "data": {
            "image/png": "[encoded data removed]",
            "text/plain": [
              "<Figure size 432x288 with 1 Axes>"
            ]
          },
          "metadata": {
            "tags": [],
            "needs_background": "light"
          }
        }
      ]
    },
    {
      "cell_type": "markdown",
      "metadata": {
        "id": "IbgG1as-Yh2H",
        "colab_type": "text"
      },
      "source": [
        "En el caso de las mujeres se observa que están menos diferenciados los deportes."
      ]
    },
    {
      "cell_type": "markdown",
      "metadata": {
        "id": "oyyNUQZ0Gt1l",
        "colab_type": "text"
      },
      "source": [
        "Entreno dos clasificadores en ambos grupos y analizo cuál es el mejor. Elijo un regresor logístico y un Support vector machine."
      ]
    },
    {
      "cell_type": "code",
      "metadata": {
        "id": "iFW6XykqLtIW",
        "colab_type": "code",
        "colab": {}
      },
      "source": [
        "#1 Logistic regression\n",
        "from sklearn.linear_model import LogisticRegression\n",
        "\n",
        "lr = LogisticRegression(solver = 'saga', max_iter=200, random_state=42)\n",
        "              \n",
        "parametros_lr = {\n",
        "    'penalty':['l2', 'l1'],\n",
        "    'C': uniform(1,10)} "
      ],
      "execution_count": 23,
      "outputs": []
    },
    {
      "cell_type": "code",
      "metadata": {
        "id": "Lpqb2PjkMHn_",
        "colab_type": "code",
        "colab": {}
      },
      "source": [
        "#Support vector machine\n",
        "from sklearn import svm\n",
        "from sklearn.model_selection import RandomizedSearchCV\n",
        "from scipy.stats import reciprocal,uniform\n",
        "\n",
        "SVM = svm.SVC(kernel = 'rbf', random_state= 3, probability=True)\n",
        "\n",
        "parametros_svm = {\n",
        "    \"C\": uniform(1,5),\n",
        "    \"gamma\": reciprocal(0.1,0.2)}"
      ],
      "execution_count": 24,
      "outputs": []
    },
    {
      "cell_type": "markdown",
      "metadata": {
        "id": "T8HM7QDeMo1n",
        "colab_type": "text"
      },
      "source": [
        "**Entrenamiento para los datos de los hombres.**"
      ]
    },
    {
      "cell_type": "code",
      "metadata": {
        "id": "db2wuLmQPqfp",
        "colab_type": "code",
        "colab": {
          "base_uri": "https://localhost:8080/",
          "height": 72
        },
        "outputId": "3b46aaee-2704-4e5f-cf41-8aa7f4ffeecd"
      },
      "source": [
        "lrM_clf = RandomizedSearchCV(lr, parametros_lr, scoring= 'accuracy', cv=5, random_state=3) \n",
        "search_lrM = lrM_clf.fit(XM_train_1, yM1_train)\n",
        "print('The parameters combination that would give best accuracy is : ')\n",
        "print(lrM_clf.best_params_)\n",
        "print('The best accuracy achieved after parameter tuning via grid search is : ', lrM_clf.best_score_)"
      ],
      "execution_count": 25,
      "outputs": [
        {
          "output_type": "stream",
          "text": [
            "The parameters combination that would give best accuracy is : \n",
            "{'C': 3.4788829722603554, 'penalty': 'l2'}\n",
            "The best accuracy achieved after parameter tuning via grid search is :  0.920265780730897\n"
          ],
          "name": "stdout"
        }
      ]
    },
    {
      "cell_type": "code",
      "metadata": {
        "id": "Cly_JFWfXc7W",
        "colab_type": "code",
        "colab": {
          "base_uri": "https://localhost:8080/",
          "height": 72
        },
        "outputId": "4d130878-9a5c-4b29-8f8c-a8ac7c89b847"
      },
      "source": [
        "lrM_clf = LogisticRegression(penalty = 'l2', C = 3.47, random_state=42, solver = 'saga', max_iter=200)\n",
        "\n",
        "\n",
        "Acc_lrM = cross_val_score(lrM_clf, XM_train_1,yM1_train, scoring= 'accuracy',cv=5)\n",
        "print('la media del accuracy es: ',Acc_lrM.mean()*100,'% +-',Acc_lrM.std()*100)\n",
        "\n",
        "Pre_lrM = cross_val_score(lrM_clf, XM_train_1,yM1_train, scoring= 'precision',cv=5)\n",
        "print('la media del precision es: ',Pre_lrM.mean()*100,'% +-',Pre_lrM.std()*100)\n",
        "\n",
        "Rec_lrM = cross_val_score(lrM_clf, XM_train_1,yM1_train, scoring= 'recall',cv=5)\n",
        "print('la media del recall es: ',Rec_lrM.mean()*100,'% +-', Rec_lrM.std()*100)"
      ],
      "execution_count": 26,
      "outputs": [
        {
          "output_type": "stream",
          "text": [
            "la media del accuracy es:  92.02657807308971 % +- 1.0867393510828025\n",
            "la media del precision es:  91.7454123975863 % +- 2.4700809653152964\n",
            "la media del recall es:  95.23076923076923 % +- 3.925941638827466\n"
          ],
          "name": "stdout"
        }
      ]
    },
    {
      "cell_type": "markdown",
      "metadata": {
        "id": "s5BqP6C7ZxCe",
        "colab_type": "text"
      },
      "source": [
        "Se observa que con el regresor logístico se obtiene mayor exactitud y un desvío menor en todas las métricas evaluadas. Con el Support Vector Machines se obtiene una mayor exhaustividad. La precisión es prácticamente la misma en ambos casos."
      ]
    },
    {
      "cell_type": "code",
      "metadata": {
        "id": "eQPbkM1WrsTQ",
        "colab_type": "code",
        "colab": {
          "base_uri": "https://localhost:8080/",
          "height": 108
        },
        "outputId": "90aa3d5c-b91c-4cf4-d249-700ba9069cc1"
      },
      "source": [
        "lrM_clf.fit(XM_train_1, yM1_train)"
      ],
      "execution_count": 27,
      "outputs": [
        {
          "output_type": "execute_result",
          "data": {
            "text/plain": [
              "LogisticRegression(C=3.47, class_weight=None, dual=False, fit_intercept=True,\n",
              "                   intercept_scaling=1, l1_ratio=None, max_iter=200,\n",
              "                   multi_class='auto', n_jobs=None, penalty='l2',\n",
              "                   random_state=42, solver='saga', tol=0.0001, verbose=0,\n",
              "                   warm_start=False)"
            ]
          },
          "metadata": {
            "tags": []
          },
          "execution_count": 27
        }
      ]
    },
    {
      "cell_type": "code",
      "metadata": {
        "id": "Nc0g3-1vXvSo",
        "colab_type": "code",
        "colab": {
          "base_uri": "https://localhost:8080/",
          "height": 1000
        },
        "outputId": "dde46d06-2ed9-47a5-cbce-3921fa65f098"
      },
      "source": [
        "svm_clf_M= RandomizedSearchCV (SVM, parametros_svm,\n",
        "                             verbose=2,\n",
        "                             n_iter=10, cv=5, random_state=3, scoring='accuracy')\n",
        "\n",
        "search_svm_M = svm_clf_M.fit(XM_train_1, yM1_train)\n",
        "print('The parameters combination that would give best accuracy is : ')\n",
        "print(svm_clf_M.best_params_)\n",
        "print('The best accuracy achieved after parameter tuning via grid search is : ', svm_clf_M.best_score_)"
      ],
      "execution_count": 28,
      "outputs": [
        {
          "output_type": "stream",
          "text": [
            "Fitting 5 folds for each of 10 candidates, totalling 50 fits\n",
            "[CV] C=3.7539895128728773, gamma=0.16337053677214383 .................\n",
            "[CV] .. C=3.7539895128728773, gamma=0.16337053677214383, total=   0.0s\n",
            "[CV] C=3.7539895128728773, gamma=0.16337053677214383 .................\n",
            "[CV] .. C=3.7539895128728773, gamma=0.16337053677214383, total=   0.0s\n",
            "[CV] C=3.7539895128728773, gamma=0.16337053677214383 .................\n",
            "[CV] .. C=3.7539895128728773, gamma=0.16337053677214383, total=   0.0s\n",
            "[CV] C=3.7539895128728773, gamma=0.16337053677214383 .................\n",
            "[CV] .. C=3.7539895128728773, gamma=0.16337053677214383, total=   0.0s\n",
            "[CV] C=3.7539895128728773, gamma=0.16337053677214383 .................\n",
            "[CV] .. C=3.7539895128728773, gamma=0.16337053677214383, total=   0.0s\n",
            "[CV] C=2.4545236945647217, gamma=0.1424867339493832 ..................\n",
            "[CV] ... C=2.4545236945647217, gamma=0.1424867339493832, total=   0.0s\n",
            "[CV] C=2.4545236945647217, gamma=0.1424867339493832 ..................\n",
            "[CV] ... C=2.4545236945647217, gamma=0.1424867339493832, total=   0.0s\n",
            "[CV] C=2.4545236945647217, gamma=0.1424867339493832 ..................\n",
            "[CV] ... C=2.4545236945647217, gamma=0.1424867339493832, total=   0.0s\n",
            "[CV] C=2.4545236945647217, gamma=0.1424867339493832 ..................\n",
            "[CV] ... C=2.4545236945647217, gamma=0.1424867339493832, total=   0.0s\n",
            "[CV] C=2.4545236945647217, gamma=0.1424867339493832 ..................\n",
            "[CV] ... C=2.4545236945647217, gamma=0.1424867339493832, total=   0.0s\n",
            "[CV] C=5.464734771738273, gamma=0.1861277402517185 ...................\n",
            "[CV] .... C=5.464734771738273, gamma=0.1861277402517185, total=   0.0s\n",
            "[CV] C=5.464734771738273, gamma=0.1861277402517185 ...................\n",
            "[CV] .... C=5.464734771738273, gamma=0.1861277402517185, total=   0.0s\n",
            "[CV] C=5.464734771738273, gamma=0.1861277402517185 ...................\n",
            "[CV] .... C=5.464734771738273, gamma=0.1861277402517185, total=   0.0s\n",
            "[CV] C=5.464734771738273, gamma=0.1861277402517185 ...................\n",
            "[CV] .... C=5.464734771738273, gamma=0.1861277402517185, total=   0.0s\n",
            "[CV] C=5.464734771738273, gamma=0.1861277402517185 ...................\n",
            "[CV] .... C=5.464734771738273, gamma=0.1861277402517185, total=   0.0s\n",
            "[CV] C=1.6279265523191813, gamma=0.11544797581675524 .................\n",
            "[CV] .. C=1.6279265523191813, gamma=0.11544797581675524, total=   0.0s\n",
            "[CV] C=1.6279265523191813, gamma=0.11544797581675524 .................\n",
            "[CV] .. C=1.6279265523191813, gamma=0.11544797581675524, total=   0.0s\n",
            "[CV] C=1.6279265523191813, gamma=0.11544797581675524 .................\n",
            "[CV] .. C=1.6279265523191813, gamma=0.11544797581675524, total=   0.0s\n",
            "[CV] C=1.6279265523191813, gamma=0.11544797581675524 .................\n",
            "[CV] .. C=1.6279265523191813, gamma=0.11544797581675524, total=   0.0s\n",
            "[CV] C=1.6279265523191813, gamma=0.11544797581675524 .................\n",
            "[CV] .. C=1.6279265523191813, gamma=0.11544797581675524, total=   0.0s\n",
            "[CV] C=1.2573360165041494, gamma=0.13573660586400524 .................\n",
            "[CV] .. C=1.2573360165041494, gamma=0.13573660586400524, total=   0.0s\n",
            "[CV] C=1.2573360165041494, gamma=0.13573660586400524 .................\n",
            "[CV] .. C=1.2573360165041494, gamma=0.13573660586400524, total=   0.0s\n",
            "[CV] C=1.2573360165041494, gamma=0.13573660586400524 .................\n",
            "[CV] .. C=1.2573360165041494, gamma=0.13573660586400524, total=   0.0s\n",
            "[CV] C=1.2573360165041494, gamma=0.13573660586400524 .................\n",
            "[CV] .. C=1.2573360165041494, gamma=0.13573660586400524, total=   0.0s\n",
            "[CV] C=1.2573360165041494, gamma=0.13573660586400524 .................\n",
            "[CV] .. C=1.2573360165041494, gamma=0.13573660586400524, total=   0.0s\n",
            "[CV] C=1.1493810543928347, gamma=0.13725257580504285 .................\n",
            "[CV] .. C=1.1493810543928347, gamma=0.13725257580504285, total=   0.0s\n",
            "[CV] C=1.1493810543928347, gamma=0.13725257580504285 .................\n",
            "[CV] .. C=1.1493810543928347, gamma=0.13725257580504285, total=   0.0s\n",
            "[CV] C=1.1493810543928347, gamma=0.13725257580504285 .................\n",
            "[CV] .. C=1.1493810543928347, gamma=0.13725257580504285, total=   0.0s\n",
            "[CV] C=1.1493810543928347, gamma=0.13725257580504285 .................\n",
            "[CV] .. C=1.1493810543928347, gamma=0.13725257580504285, total=   0.0s\n",
            "[CV] C=1.1493810543928347, gamma=0.13725257580504285 .................\n",
            "[CV] .. C=1.1493810543928347, gamma=0.13725257580504285, total=   0.0s\n",
            "[CV] C=4.245720238073804, gamma=0.12129224248562456 ..................\n",
            "[CV] ... C=4.245720238073804, gamma=0.12129224248562456, total=   0.0s\n",
            "[CV] C=4.245720238073804, gamma=0.12129224248562456 ..................\n",
            "[CV] ... C=4.245720238073804, gamma=0.12129224248562456, total=   0.0s\n",
            "[CV] C=4.245720238073804, gamma=0.12129224248562456 ..................\n",
            "[CV] ... C=4.245720238073804, gamma=0.12129224248562456, total=   0.0s\n",
            "[CV] C=4.245720238073804, gamma=0.12129224248562456 ..................\n",
            "[CV] ... C=4.245720238073804, gamma=0.12129224248562456, total=   0.0s\n",
            "[CV] C=4.245720238073804, gamma=0.12129224248562456 ..................\n",
            "[CV] ... C=4.245720238073804, gamma=0.12129224248562456, total=   0.0s\n",
            "[CV] C=4.381274509900656, gamma=0.15061472437155365 ..................\n",
            "[CV] ... C=4.381274509900656, gamma=0.15061472437155365, total=   0.0s\n",
            "[CV] C=4.381274509900656, gamma=0.15061472437155365 ..................\n",
            "[CV] ... C=4.381274509900656, gamma=0.15061472437155365, total=   0.0s\n",
            "[CV] C=4.381274509900656, gamma=0.15061472437155365 ..................\n",
            "[CV] ... C=4.381274509900656, gamma=0.15061472437155365, total=   0.0s\n",
            "[CV] C=4.381274509900656, gamma=0.15061472437155365 ..................\n",
            "[CV] ... C=4.381274509900656, gamma=0.15061472437155365, total=   0.0s\n",
            "[CV] C=4.381274509900656, gamma=0.15061472437155365 ..................\n",
            "[CV] ... C=4.381274509900656, gamma=0.15061472437155365, total=   0.0s\n",
            "[CV] C=1.1199094118858268, gamma=0.14730986912934205 .................\n",
            "[CV] .. C=1.1199094118858268, gamma=0.14730986912934205, total=   0.0s\n",
            "[CV] C=1.1199094118858268, gamma=0.14730986912934205 .................\n",
            "[CV] .. C=1.1199094118858268, gamma=0.14730986912934205, total=   0.0s\n",
            "[CV] C=1.1199094118858268, gamma=0.14730986912934205 .................\n",
            "[CV] .. C=1.1199094118858268, gamma=0.14730986912934205, total=   0.0s\n",
            "[CV] C=1.1199094118858268, gamma=0.14730986912934205 .................\n",
            "[CV] .. C=1.1199094118858268, gamma=0.14730986912934205, total=   0.0s\n",
            "[CV] C=1.1199094118858268, gamma=0.14730986912934205 .................\n",
            "[CV] .. C=1.1199094118858268, gamma=0.14730986912934205, total=   0.0s\n",
            "[CV] C=2.296262234537327, gamma=0.13333922038366894 ..................\n",
            "[CV] ... C=2.296262234537327, gamma=0.13333922038366894, total=   0.0s\n",
            "[CV] C=2.296262234537327, gamma=0.13333922038366894 ..................\n",
            "[CV] ... C=2.296262234537327, gamma=0.13333922038366894, total=   0.0s\n",
            "[CV] C=2.296262234537327, gamma=0.13333922038366894 ..................\n",
            "[CV] ... C=2.296262234537327, gamma=0.13333922038366894, total=   0.0s\n",
            "[CV] C=2.296262234537327, gamma=0.13333922038366894 ..................\n"
          ],
          "name": "stdout"
        },
        {
          "output_type": "stream",
          "text": [
            "[Parallel(n_jobs=1)]: Using backend SequentialBackend with 1 concurrent workers.\n",
            "[Parallel(n_jobs=1)]: Done   1 out of   1 | elapsed:    0.0s remaining:    0.0s\n",
            "[Parallel(n_jobs=1)]: Done  50 out of  50 | elapsed:    0.2s finished\n"
          ],
          "name": "stderr"
        },
        {
          "output_type": "stream",
          "text": [
            "[CV] ... C=2.296262234537327, gamma=0.13333922038366894, total=   0.0s\n",
            "[CV] C=2.296262234537327, gamma=0.13333922038366894 ..................\n",
            "[CV] ... C=2.296262234537327, gamma=0.13333922038366894, total=   0.0s\n",
            "The parameters combination that would give best accuracy is : \n",
            "{'C': 4.381274509900656, 'gamma': 0.15061472437155365}\n",
            "The best accuracy achieved after parameter tuning via grid search is :  0.9156146179401994\n"
          ],
          "name": "stdout"
        }
      ]
    },
    {
      "cell_type": "code",
      "metadata": {
        "id": "L4uuMWlBX81N",
        "colab_type": "code",
        "colab": {
          "base_uri": "https://localhost:8080/",
          "height": 72
        },
        "outputId": "1c6e7dd8-e65f-46d4-96e7-8fa7ec44febe"
      },
      "source": [
        "svm_clf_M = svm.SVC( C= 4.381, kernel = 'rbf', gamma = 0.1506, probability=True, random_state= 3)\n",
        "\n",
        "Acc_svm_M = cross_val_score(svm_clf_M, XM_train_1,yM1_train, scoring= 'accuracy',cv=5)\n",
        "print('la media del accuracy es:',Acc_svm_M.mean()*100,'% +-',Acc_svm_M.std()*100)\n",
        "\n",
        "Pre_svm_M = cross_val_score(svm_clf_M, XM_train_1,yM1_train, scoring= 'precision',cv=5)\n",
        "print('la media del precision es:',Pre_svm_M.mean()*100,'% +-',Pre_svm_M.std()*100)\n",
        "\n",
        "Rec_svm_M = cross_val_score(svm_clf_M, XM_train_1,yM1_train, scoring= 'recall',cv=5)\n",
        "print('la media del recall es:',Rec_svm_M.mean()*100,'% +-',Rec_svm_M.std()*100)"
      ],
      "execution_count": 29,
      "outputs": [
        {
          "output_type": "stream",
          "text": [
            "la media del accuracy es: 91.56146179401993 % +- 1.8117738477655794\n",
            "la media del precision es: 91.65994231211621 % +- 2.5727058001499814\n",
            "la media del recall es: 94.43076923076923 % +- 4.0917292824318245\n"
          ],
          "name": "stdout"
        }
      ]
    },
    {
      "cell_type": "markdown",
      "metadata": {
        "id": "n84VG8ZKEEc1",
        "colab_type": "text"
      },
      "source": [
        "En este caso, haciendo una comparación con un cross validación, el regresor logístico resulta ser un mejor clasificador de acuerdo a las métricas analizadas. "
      ]
    },
    {
      "cell_type": "code",
      "metadata": {
        "id": "zLz8Ljxwrv8t",
        "colab_type": "code",
        "colab": {
          "base_uri": "https://localhost:8080/",
          "height": 90
        },
        "outputId": "903d07e6-884b-42b1-9aeb-513001aae538"
      },
      "source": [
        "svm_clf_M.fit(XM_train_1, yM1_train)"
      ],
      "execution_count": 30,
      "outputs": [
        {
          "output_type": "execute_result",
          "data": {
            "text/plain": [
              "SVC(C=4.381, break_ties=False, cache_size=200, class_weight=None, coef0=0.0,\n",
              "    decision_function_shape='ovr', degree=3, gamma=0.1506, kernel='rbf',\n",
              "    max_iter=-1, probability=True, random_state=3, shrinking=True, tol=0.001,\n",
              "    verbose=False)"
            ]
          },
          "metadata": {
            "tags": []
          },
          "execution_count": 30
        }
      ]
    },
    {
      "cell_type": "markdown",
      "metadata": {
        "id": "nOobQo1YZ3uE",
        "colab_type": "text"
      },
      "source": [
        "Veo la frontera de decisión para los datos de training en los hombres para cada clasificador."
      ]
    },
    {
      "cell_type": "code",
      "metadata": {
        "id": "ZJyb_gPtrNmR",
        "colab_type": "code",
        "colab": {
          "base_uri": "https://localhost:8080/",
          "height": 591
        },
        "outputId": "b7310377-2092-4f93-84c8-8bc424f897d0"
      },
      "source": [
        "for clf in (lrM_clf, svm_clf_M):\n",
        "    #plot_predictions(clf)\n",
        "    plt.title(clf.__class__.__name__)\n",
        "    plot_decision_boundary(clf,XM_train_1,yM1_train,axes=Axis_M)\n",
        "    plot_dataset(XM_train_1,yM1_train,axes=Axis_M)\n",
        "    plt.show()"
      ],
      "execution_count": 31,
      "outputs": [
        {
          "output_type": "display_data",
          "data": {
            "image/png": "[encoded data removed]",
            "text/plain": [
              "<Figure size 432x288 with 1 Axes>"
            ]
          },
          "metadata": {
            "tags": [],
            "needs_background": "light"
          }
        },
        {
          "output_type": "display_data",
          "data": {
            "image/png": "[encoded data removed]",
            "text/plain": [
              "<Figure size 432x288 with 1 Axes>"
            ]
          },
          "metadata": {
            "tags": [],
            "needs_background": "light"
          }
        }
      ]
    },
    {
      "cell_type": "markdown",
      "metadata": {
        "id": "_4bBDs1DHpHm",
        "colab_type": "text"
      },
      "source": [
        "Realizo la predicción para los datos de test en los hombres para cada clasificador y obtengo las matrices de confusión."
      ]
    },
    {
      "cell_type": "code",
      "metadata": {
        "id": "F_3SzghYsUKb",
        "colab_type": "code",
        "colab": {
          "base_uri": "https://localhost:8080/",
          "height": 54
        },
        "outputId": "4d8e5ae9-ea41-4019-e23b-bc87f13ecb3a"
      },
      "source": [
        "lrM_clf.fit(XM_test_1, yM1_test)\n",
        "ylr_pred_M = lrM_clf.predict(XM_test_1)\n",
        "CM_lr_M=confusion_matrix(yM1_test,ylr_pred_M)\n",
        "print(CM_lr_M)"
      ],
      "execution_count": 32,
      "outputs": [
        {
          "output_type": "stream",
          "text": [
            "[[41  5]\n",
            " [ 6 40]]\n"
          ],
          "name": "stdout"
        }
      ]
    },
    {
      "cell_type": "code",
      "metadata": {
        "id": "sRrWuDkpsIiA",
        "colab_type": "code",
        "colab": {
          "base_uri": "https://localhost:8080/",
          "height": 54
        },
        "outputId": "449e96c1-7d55-4066-cde1-c8116ece0bb1"
      },
      "source": [
        "svm_clf_M.fit(XM_test_1, yM1_test)\n",
        "ysvm_pred_M = svm_clf_M.predict(XM_test_1)\n",
        "CM_svm_M=confusion_matrix(yM1_test,ysvm_pred_M)\n",
        "print(CM_svm_M)"
      ],
      "execution_count": 33,
      "outputs": [
        {
          "output_type": "stream",
          "text": [
            "[[41  5]\n",
            " [ 6 40]]\n"
          ],
          "name": "stdout"
        }
      ]
    },
    {
      "cell_type": "markdown",
      "metadata": {
        "id": "aJ4vlCTydqZx",
        "colab_type": "text"
      },
      "source": [
        "Realizando una predición para ambos clasificadores con las datos de testeo, y observando las matrices de confusión, se ve que clasificaron de la misma forma. Algo lógico ya que la mejoría del regresor por sobre el SVM no era muy significativa. "
      ]
    },
    {
      "cell_type": "markdown",
      "metadata": {
        "id": "jiNlCpWwIeas",
        "colab_type": "text"
      },
      "source": [
        "**Ahora entreno los clasificadores para los grupos de mujeres.**"
      ]
    },
    {
      "cell_type": "code",
      "metadata": {
        "id": "b_6uVPmgKsVX",
        "colab_type": "code",
        "colab": {
          "base_uri": "https://localhost:8080/",
          "height": 72
        },
        "outputId": "3bde09ad-3633-4023-ff95-ed9d9f1b4d5f"
      },
      "source": [
        "lrF_clf = RandomizedSearchCV(lr, parametros_lr, scoring= 'accuracy', cv=5, random_state=3) \n",
        "search_lrF = lrF_clf.fit(XF_train_1, yF1_train)\n",
        "print('The parameters combination that would give best accuracy is : ')\n",
        "print(lrF_clf.best_params_)\n",
        "print('The best accuracy achieved after parameter tuning via grid search is : ', lrF_clf.best_score_)"
      ],
      "execution_count": 34,
      "outputs": [
        {
          "output_type": "stream",
          "text": [
            "The parameters combination that would give best accuracy is : \n",
            "{'C': 6.507979025745755, 'penalty': 'l1'}\n",
            "The best accuracy achieved after parameter tuning via grid search is :  0.8591362126245847\n"
          ],
          "name": "stdout"
        }
      ]
    },
    {
      "cell_type": "code",
      "metadata": {
        "id": "eE3ZhwrMLCc2",
        "colab_type": "code",
        "colab": {
          "base_uri": "https://localhost:8080/",
          "height": 72
        },
        "outputId": "45c1faea-f499-4c5d-b3d0-c74bd2b6742a"
      },
      "source": [
        "lrF_clf = LogisticRegression(penalty = 'l1', C = 6.507, random_state=42, solver = 'saga', max_iter=200)\n",
        "\n",
        "Acc_lrF = cross_val_score(lrF_clf, XF_train_1,yF1_train, scoring= 'accuracy',cv=5)\n",
        "print('la media del accuracy es: ',Acc_lrF.mean()*100,'% +-',Acc_lrF.std()*100)\n",
        "\n",
        "Pre_lrF = cross_val_score(lrF_clf, XF_train_1,yF1_train, scoring= 'precision',cv=5)\n",
        "print('la media del precision es: ',Pre_lrF.mean()*100,'% +-',Pre_lrF.std()*100)\n",
        "\n",
        "Rec_lrF = cross_val_score(lrF_clf, XF_train_1,yF1_train, scoring= 'recall',cv=5)\n",
        "print('la media del recall es: ',Rec_lrF.mean()*100,'% +-', Rec_lrF.std()*100)"
      ],
      "execution_count": 35,
      "outputs": [
        {
          "output_type": "stream",
          "text": [
            "la media del accuracy es:  85.91362126245848 % +- 5.9647274667874886\n",
            "la media del precision es:  85.59986450331279 % +- 6.460320653903276\n",
            "la media del recall es:  93.07692307692307 % +- 6.153846153846154\n"
          ],
          "name": "stdout"
        }
      ]
    },
    {
      "cell_type": "code",
      "metadata": {
        "id": "zNOPkKEDPzN9",
        "colab_type": "code",
        "colab": {
          "base_uri": "https://localhost:8080/",
          "height": 108
        },
        "outputId": "2c3f1c55-431d-41ef-d731-e5769d99b4e2"
      },
      "source": [
        "lrF_clf.fit(XF_train_1, yF1_train)"
      ],
      "execution_count": 36,
      "outputs": [
        {
          "output_type": "execute_result",
          "data": {
            "text/plain": [
              "LogisticRegression(C=6.507, class_weight=None, dual=False, fit_intercept=True,\n",
              "                   intercept_scaling=1, l1_ratio=None, max_iter=200,\n",
              "                   multi_class='auto', n_jobs=None, penalty='l1',\n",
              "                   random_state=42, solver='saga', tol=0.0001, verbose=0,\n",
              "                   warm_start=False)"
            ]
          },
          "metadata": {
            "tags": []
          },
          "execution_count": 36
        }
      ]
    },
    {
      "cell_type": "code",
      "metadata": {
        "id": "7kfMJzr2OzAU",
        "colab_type": "code",
        "colab": {
          "base_uri": "https://localhost:8080/",
          "height": 1000
        },
        "outputId": "a2167e00-ef37-4b4a-d990-3f235a1aac94"
      },
      "source": [
        "svm_clf_F = RandomizedSearchCV (SVM, parametros_svm,\n",
        "                             verbose=2,\n",
        "                             n_iter=10, cv=5, random_state=3, scoring='accuracy')\n",
        "\n",
        "search_svm_F = svm_clf_F.fit(XF_train_1, yF1_train)\n",
        "print('The parameters combination that would give best accuracy is : ')\n",
        "print(svm_clf_F.best_params_)\n",
        "print('The best accuracy achieved after parameter tuning via grid search is : ', svm_clf_F.best_score_)"
      ],
      "execution_count": 37,
      "outputs": [
        {
          "output_type": "stream",
          "text": [
            "Fitting 5 folds for each of 10 candidates, totalling 50 fits\n",
            "[CV] C=3.7539895128728773, gamma=0.16337053677214383 .................\n",
            "[CV] .. C=3.7539895128728773, gamma=0.16337053677214383, total=   0.0s\n",
            "[CV] C=3.7539895128728773, gamma=0.16337053677214383 .................\n",
            "[CV] .. C=3.7539895128728773, gamma=0.16337053677214383, total=   0.0s\n",
            "[CV] C=3.7539895128728773, gamma=0.16337053677214383 .................\n",
            "[CV] .. C=3.7539895128728773, gamma=0.16337053677214383, total=   0.0s\n",
            "[CV] C=3.7539895128728773, gamma=0.16337053677214383 .................\n",
            "[CV] .. C=3.7539895128728773, gamma=0.16337053677214383, total=   0.0s\n",
            "[CV] C=3.7539895128728773, gamma=0.16337053677214383 .................\n",
            "[CV] .. C=3.7539895128728773, gamma=0.16337053677214383, total=   0.0s\n",
            "[CV] C=2.4545236945647217, gamma=0.1424867339493832 ..................\n",
            "[CV] ... C=2.4545236945647217, gamma=0.1424867339493832, total=   0.0s\n",
            "[CV] C=2.4545236945647217, gamma=0.1424867339493832 ..................\n",
            "[CV] ... C=2.4545236945647217, gamma=0.1424867339493832, total=   0.0s\n",
            "[CV] C=2.4545236945647217, gamma=0.1424867339493832 ..................\n",
            "[CV] ... C=2.4545236945647217, gamma=0.1424867339493832, total=   0.0s\n",
            "[CV] C=2.4545236945647217, gamma=0.1424867339493832 ..................\n",
            "[CV] ... C=2.4545236945647217, gamma=0.1424867339493832, total=   0.0s\n",
            "[CV] C=2.4545236945647217, gamma=0.1424867339493832 ..................\n",
            "[CV] ... C=2.4545236945647217, gamma=0.1424867339493832, total=   0.0s\n",
            "[CV] C=5.464734771738273, gamma=0.1861277402517185 ...................\n",
            "[CV] .... C=5.464734771738273, gamma=0.1861277402517185, total=   0.0s\n",
            "[CV] C=5.464734771738273, gamma=0.1861277402517185 ...................\n",
            "[CV] .... C=5.464734771738273, gamma=0.1861277402517185, total=   0.0s\n",
            "[CV] C=5.464734771738273, gamma=0.1861277402517185 ...................\n",
            "[CV] .... C=5.464734771738273, gamma=0.1861277402517185, total=   0.0s\n",
            "[CV] C=5.464734771738273, gamma=0.1861277402517185 ...................\n",
            "[CV] .... C=5.464734771738273, gamma=0.1861277402517185, total=   0.0s\n",
            "[CV] C=5.464734771738273, gamma=0.1861277402517185 ...................\n",
            "[CV] .... C=5.464734771738273, gamma=0.1861277402517185, total=   0.0s\n",
            "[CV] C=1.6279265523191813, gamma=0.11544797581675524 .................\n",
            "[CV] .. C=1.6279265523191813, gamma=0.11544797581675524, total=   0.0s\n",
            "[CV] C=1.6279265523191813, gamma=0.11544797581675524 .................\n",
            "[CV] .. C=1.6279265523191813, gamma=0.11544797581675524, total=   0.0s\n",
            "[CV] C=1.6279265523191813, gamma=0.11544797581675524 .................\n",
            "[CV] .. C=1.6279265523191813, gamma=0.11544797581675524, total=   0.0s\n",
            "[CV] C=1.6279265523191813, gamma=0.11544797581675524 .................\n",
            "[CV] .. C=1.6279265523191813, gamma=0.11544797581675524, total=   0.0s\n",
            "[CV] C=1.6279265523191813, gamma=0.11544797581675524 .................\n",
            "[CV] .. C=1.6279265523191813, gamma=0.11544797581675524, total=   0.0s\n",
            "[CV] C=1.2573360165041494, gamma=0.13573660586400524 .................\n",
            "[CV] .. C=1.2573360165041494, gamma=0.13573660586400524, total=   0.0s\n",
            "[CV] C=1.2573360165041494, gamma=0.13573660586400524 .................\n",
            "[CV] .. C=1.2573360165041494, gamma=0.13573660586400524, total=   0.0s\n",
            "[CV] C=1.2573360165041494, gamma=0.13573660586400524 .................\n",
            "[CV] .. C=1.2573360165041494, gamma=0.13573660586400524, total=   0.0s\n",
            "[CV] C=1.2573360165041494, gamma=0.13573660586400524 .................\n",
            "[CV] .. C=1.2573360165041494, gamma=0.13573660586400524, total=   0.0s\n",
            "[CV] C=1.2573360165041494, gamma=0.13573660586400524 .................\n",
            "[CV] .. C=1.2573360165041494, gamma=0.13573660586400524, total=   0.0s\n",
            "[CV] C=1.1493810543928347, gamma=0.13725257580504285 .................\n",
            "[CV] .. C=1.1493810543928347, gamma=0.13725257580504285, total=   0.0s\n",
            "[CV] C=1.1493810543928347, gamma=0.13725257580504285 .................\n",
            "[CV] .. C=1.1493810543928347, gamma=0.13725257580504285, total=   0.0s\n",
            "[CV] C=1.1493810543928347, gamma=0.13725257580504285 .................\n",
            "[CV] .. C=1.1493810543928347, gamma=0.13725257580504285, total=   0.0s\n",
            "[CV] C=1.1493810543928347, gamma=0.13725257580504285 .................\n",
            "[CV] .. C=1.1493810543928347, gamma=0.13725257580504285, total=   0.0s\n",
            "[CV] C=1.1493810543928347, gamma=0.13725257580504285 .................\n",
            "[CV] .. C=1.1493810543928347, gamma=0.13725257580504285, total=   0.0s\n",
            "[CV] C=4.245720238073804, gamma=0.12129224248562456 ..................\n",
            "[CV] ... C=4.245720238073804, gamma=0.12129224248562456, total=   0.0s\n",
            "[CV] C=4.245720238073804, gamma=0.12129224248562456 ..................\n",
            "[CV] ... C=4.245720238073804, gamma=0.12129224248562456, total=   0.0s\n",
            "[CV] C=4.245720238073804, gamma=0.12129224248562456 ..................\n",
            "[CV] ... C=4.245720238073804, gamma=0.12129224248562456, total=   0.0s\n",
            "[CV] C=4.245720238073804, gamma=0.12129224248562456 ..................\n",
            "[CV] ... C=4.245720238073804, gamma=0.12129224248562456, total=   0.0s\n",
            "[CV] C=4.245720238073804, gamma=0.12129224248562456 ..................\n",
            "[CV] ... C=4.245720238073804, gamma=0.12129224248562456, total=   0.0s\n",
            "[CV] C=4.381274509900656, gamma=0.15061472437155365 ..................\n",
            "[CV] ... C=4.381274509900656, gamma=0.15061472437155365, total=   0.0s\n",
            "[CV] C=4.381274509900656, gamma=0.15061472437155365 ..................\n",
            "[CV] ... C=4.381274509900656, gamma=0.15061472437155365, total=   0.0s\n",
            "[CV] C=4.381274509900656, gamma=0.15061472437155365 ..................\n",
            "[CV] ... C=4.381274509900656, gamma=0.15061472437155365, total=   0.0s\n",
            "[CV] C=4.381274509900656, gamma=0.15061472437155365 ..................\n",
            "[CV] ... C=4.381274509900656, gamma=0.15061472437155365, total=   0.0s\n",
            "[CV] C=4.381274509900656, gamma=0.15061472437155365 ..................\n",
            "[CV] ... C=4.381274509900656, gamma=0.15061472437155365, total=   0.0s\n",
            "[CV] C=1.1199094118858268, gamma=0.14730986912934205 .................\n",
            "[CV] .. C=1.1199094118858268, gamma=0.14730986912934205, total=   0.0s\n",
            "[CV] C=1.1199094118858268, gamma=0.14730986912934205 .................\n",
            "[CV] .. C=1.1199094118858268, gamma=0.14730986912934205, total=   0.0s\n",
            "[CV] C=1.1199094118858268, gamma=0.14730986912934205 .................\n",
            "[CV] .. C=1.1199094118858268, gamma=0.14730986912934205, total=   0.0s\n",
            "[CV] C=1.1199094118858268, gamma=0.14730986912934205 .................\n",
            "[CV] .. C=1.1199094118858268, gamma=0.14730986912934205, total=   0.0s\n",
            "[CV] C=1.1199094118858268, gamma=0.14730986912934205 .................\n"
          ],
          "name": "stdout"
        },
        {
          "output_type": "stream",
          "text": [
            "[Parallel(n_jobs=1)]: Using backend SequentialBackend with 1 concurrent workers.\n",
            "[Parallel(n_jobs=1)]: Done   1 out of   1 | elapsed:    0.0s remaining:    0.0s\n"
          ],
          "name": "stderr"
        },
        {
          "output_type": "stream",
          "text": [
            "[CV] .. C=1.1199094118858268, gamma=0.14730986912934205, total=   0.0s\n",
            "[CV] C=2.296262234537327, gamma=0.13333922038366894 ..................\n",
            "[CV] ... C=2.296262234537327, gamma=0.13333922038366894, total=   0.0s\n",
            "[CV] C=2.296262234537327, gamma=0.13333922038366894 ..................\n",
            "[CV] ... C=2.296262234537327, gamma=0.13333922038366894, total=   0.0s\n",
            "[CV] C=2.296262234537327, gamma=0.13333922038366894 ..................\n",
            "[CV] ... C=2.296262234537327, gamma=0.13333922038366894, total=   0.0s\n",
            "[CV] C=2.296262234537327, gamma=0.13333922038366894 ..................\n",
            "[CV] ... C=2.296262234537327, gamma=0.13333922038366894, total=   0.0s\n",
            "[CV] C=2.296262234537327, gamma=0.13333922038366894 ..................\n",
            "[CV] ... C=2.296262234537327, gamma=0.13333922038366894, total=   0.0s\n",
            "The parameters combination that would give best accuracy is : \n",
            "{'C': 1.6279265523191813, 'gamma': 0.11544797581675524}\n",
            "The best accuracy achieved after parameter tuning via grid search is :  0.8498338870431894\n"
          ],
          "name": "stdout"
        },
        {
          "output_type": "stream",
          "text": [
            "[Parallel(n_jobs=1)]: Done  50 out of  50 | elapsed:    0.2s finished\n"
          ],
          "name": "stderr"
        }
      ]
    },
    {
      "cell_type": "code",
      "metadata": {
        "id": "FbyWIZfEPBmT",
        "colab_type": "code",
        "colab": {
          "base_uri": "https://localhost:8080/",
          "height": 35
        },
        "outputId": "a46bcdd5-3edc-4af8-ae4f-c12b0273a095"
      },
      "source": [
        "svm_clf_F = svm.SVC( C= 1.627, kernel = 'rbf', gamma = 0.1154, probability=True, random_state= 3)\n",
        "\n",
        "Acc_svm_F = cross_val_score(svm_clf_F, XF_train_1,yF1_train, scoring= 'accuracy',cv=5)\n",
        "print('la media del accuracy es:',Acc_svm_F.mean()*100,'% +-',Acc_svm_F.std()*100)\n",
        "\n",
        "#Pre_svm_F = cross_val_score(svm_clf_F, XF_train_1,yM1_train, scoring= 'precision',cv=5)\n",
        "#print('la media del precision es:',Pre_svm_F.mean()*100,'% +-',Pre_svm_F.std()*100)\n",
        "\n",
        "#Rec_svm_F = cross_val_score(svm_clf_F, XF_train_1,yM1_train, scoring= 'recall',cv=5)\n",
        "#print('la media del recall es:',Rec_svm_F.mean()*100,'% +-',Rec_svm_F.std()*100)"
      ],
      "execution_count": 47,
      "outputs": [
        {
          "output_type": "stream",
          "text": [
            "la media del accuracy es: 84.98338870431894 % +- 6.112154279899458\n"
          ],
          "name": "stdout"
        }
      ]
    },
    {
      "cell_type": "markdown",
      "metadata": {
        "id": "Ia-SJUBWGfIn",
        "colab_type": "text"
      },
      "source": [
        "En este caso, haciendo una comparación con un cross validación, el regresor logístico presenta mejor Exactitud."
      ]
    },
    {
      "cell_type": "code",
      "metadata": {
        "id": "2axPj8uwPjuk",
        "colab_type": "code",
        "colab": {
          "base_uri": "https://localhost:8080/",
          "height": 54
        },
        "outputId": "61137e7f-d112-418c-d5ec-9baae493434b"
      },
      "source": [
        "svm_clf_F.fit(XF_train_1, yF1_train)\n",
        "ysvm_pred_F = svm_clf_F.predict(XF_train_1)\n",
        "CM_svm_F=confusion_matrix(yF1_train,ysvm_pred_F)\n",
        "\n",
        "TN, Fp, Fn, TP = CM_svm_F.ravel()\n",
        "Rec_svm_F= TP/(TP + Fn)\n",
        "Pre_svm_F= TP/(TP + Fp)\n",
        "\n",
        "print(\"La  Precision es:\", Pre_svm_F*100,'%')\n",
        "print(\"La Exhaustividad  es:\", Rec_svm_F*100,'%')"
      ],
      "execution_count": 49,
      "outputs": [
        {
          "output_type": "stream",
          "text": [
            "La  Precision es: 84.02777777777779 %\n",
            "La Exhaustividad  es: 93.7984496124031 %\n"
          ],
          "name": "stdout"
        }
      ]
    },
    {
      "cell_type": "markdown",
      "metadata": {
        "id": "K8noiZYTZJ0s",
        "colab_type": "text"
      },
      "source": [
        "Realicé un fit con el set de train, calculé la matriz de confusión y calculé la precisión y exhaustividad con los coeficientes de la matriz. De acuerdo a estos valores, el regresor sería un mejor clasificador."
      ]
    },
    {
      "cell_type": "markdown",
      "metadata": {
        "id": "JDZrlRwMaPiN",
        "colab_type": "text"
      },
      "source": [
        "Veo la frontera de decisión para los datos de training en las mujeres para cada clasificador.."
      ]
    },
    {
      "cell_type": "code",
      "metadata": {
        "id": "4lEzUGSrQTSE",
        "colab_type": "code",
        "colab": {
          "base_uri": "https://localhost:8080/",
          "height": 591
        },
        "outputId": "e8145174-ad9f-432f-d9ad-e95824d26ba2"
      },
      "source": [
        "for clf in (lrF_clf, svm_clf_F):\n",
        "    #plot_predictions(clf)\n",
        "    plt.title(clf.__class__.__name__)\n",
        "    plot_decision_boundary(clf,XF_train_1,yF1_train,axes=Axis_F)\n",
        "    plot_dataset(XF_train_1,yF1_train,axes=Axis_F)\n",
        "    plt.show()"
      ],
      "execution_count": 42,
      "outputs": [
        {
          "output_type": "display_data",
          "data": {
            "image/png": "[encoded data removed]",
            "text/plain": [
              "<Figure size 432x288 with 1 Axes>"
            ]
          },
          "metadata": {
            "tags": [],
            "needs_background": "light"
          }
        },
        {
          "output_type": "display_data",
          "data": {
            "image/png": "[encoded data removed]",
            "text/plain": [
              "<Figure size 432x288 with 1 Axes>"
            ]
          },
          "metadata": {
            "tags": [],
            "needs_background": "light"
          }
        }
      ]
    },
    {
      "cell_type": "code",
      "metadata": {
        "id": "rWjlfbZ3QmDF",
        "colab_type": "code",
        "colab": {
          "base_uri": "https://localhost:8080/",
          "height": 54
        },
        "outputId": "b17dc1b2-82e4-4fb3-bc77-10511543cf07"
      },
      "source": [
        "lrF_clf.fit(XF_train_1, yF1_train)\n",
        "ylr_pred_F = lrF_clf.predict(XF_train_1)\n",
        "CM_lr_F=confusion_matrix(yF1_train,ylr_pred_F)\n",
        "print(CM_lr_F)"
      ],
      "execution_count": 43,
      "outputs": [
        {
          "output_type": "stream",
          "text": [
            "[[ 64  20]\n",
            " [ 12 117]]\n"
          ],
          "name": "stdout"
        }
      ]
    },
    {
      "cell_type": "code",
      "metadata": {
        "id": "5dCG0t3LQ8jK",
        "colab_type": "code",
        "colab": {
          "base_uri": "https://localhost:8080/",
          "height": 54
        },
        "outputId": "08b14616-0770-4db2-9688-4947f32dabdb"
      },
      "source": [
        "svm_clf_F.fit(XF_train_1, yF1_train)\n",
        "ysvm_pred_F = svm_clf_F.predict(XF_train_1)\n",
        "CM_svm_F=confusion_matrix(yF1_train,ysvm_pred_F)\n",
        "print(CM_svm_F)"
      ],
      "execution_count": 44,
      "outputs": [
        {
          "output_type": "stream",
          "text": [
            "[[ 61  23]\n",
            " [  8 121]]\n"
          ],
          "name": "stdout"
        }
      ]
    },
    {
      "cell_type": "markdown",
      "metadata": {
        "id": "aLPR1RP2aUsJ",
        "colab_type": "text"
      },
      "source": [
        "Realizo la predicción para los datos de test en las mujeres para cada clasificador y obtengo las matrices de confusión."
      ]
    },
    {
      "cell_type": "code",
      "metadata": {
        "id": "QjNd4vQ2a9lq",
        "colab_type": "code",
        "colab": {
          "base_uri": "https://localhost:8080/",
          "height": 54
        },
        "outputId": "d32572e4-b28e-440d-f091-c8a26742275e"
      },
      "source": [
        "lrF_clf.fit(XF_test_1, yF1_test)\n",
        "ylr_pred_F = lrF_clf.predict(XF_test_1)\n",
        "CM_lr_F=confusion_matrix(yF1_test,ylr_pred_F)\n",
        "print(CM_lr_F)"
      ],
      "execution_count": 45,
      "outputs": [
        {
          "output_type": "stream",
          "text": [
            "[[27 10]\n",
            " [ 5 50]]\n"
          ],
          "name": "stdout"
        }
      ]
    },
    {
      "cell_type": "code",
      "metadata": {
        "id": "ra9M_ZzcbHKA",
        "colab_type": "code",
        "colab": {
          "base_uri": "https://localhost:8080/",
          "height": 54
        },
        "outputId": "1a1bab30-2049-4032-d8ad-02779745503f"
      },
      "source": [
        "svm_clf_F.fit(XF_test_1, yF1_test)\n",
        "ysvm_pred_F = svm_clf_F.predict(XF_test_1)\n",
        "CM_svm_F=confusion_matrix(yF1_test,ysvm_pred_F)\n",
        "print(CM_svm_F)"
      ],
      "execution_count": 46,
      "outputs": [
        {
          "output_type": "stream",
          "text": [
            "[[27 10]\n",
            " [ 2 53]]\n"
          ],
          "name": "stdout"
        }
      ]
    },
    {
      "cell_type": "markdown",
      "metadata": {
        "id": "zG2eiXdmHe8C",
        "colab_type": "text"
      },
      "source": [
        "Realizando una predición para ambos clasificadores con las datos de testeo, y observando las matrices de confusión, se ve que el SVM clasificó mejor los datos, aumentando los verdaderos positvos, disminuyendo los falsos negativos y por lo tanto, aumentando la precisión y la exhaustividad."
      ]
    }
  ]
}