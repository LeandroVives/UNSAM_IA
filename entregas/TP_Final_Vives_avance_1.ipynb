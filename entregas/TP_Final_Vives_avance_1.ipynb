{
  "nbformat": 4,
  "nbformat_minor": 0,
  "metadata": {
    "kernelspec": {
      "display_name": "Python 3",
      "language": "python",
      "name": "python3"
    },
    "language_info": {
      "codemirror_mode": {
        "name": "ipython",
        "version": 3
      },
      "file_extension": ".py",
      "mimetype": "text/x-python",
      "name": "python",
      "nbconvert_exporter": "python",
      "pygments_lexer": "ipython3",
      "version": "3.7.6"
    },
    "colab": {
      "name": "TP_Final_Vives_2020.ipynb",
      "provenance": [],
      "collapsed_sections": []
    }
  },
  "cells": [
    {
      "cell_type": "markdown",
      "metadata": {
        "id": "Uj_d6QGq1bhD",
        "colab_type": "text"
      },
      "source": [
        "**Trabajo Final de Aprendizaje Automático.\n",
        "Alumno: Leandro Vives.\n",
        "Carrera de Doctorado en Ciencias Aplicadas y de la Ingeniería.**"
      ]
    },
    {
      "cell_type": "code",
      "metadata": {
        "id": "02QVeRzlQi42",
        "colab_type": "code",
        "colab": {}
      },
      "source": [
        "import numpy as np\n",
        "import pandas as pd\n",
        "import matplotlib.pyplot as plt\n",
        "import seaborn as sns"
      ],
      "execution_count": 19,
      "outputs": []
    },
    {
      "cell_type": "code",
      "metadata": {
        "id": "2YkqHF6bkX6A",
        "colab_type": "code",
        "colab": {}
      },
      "source": [
        "from matplotlib.colors import ListedColormap\n",
        "%matplotlib inline\n",
        "\n",
        "\n",
        "DEFAULT_AXIS=[-0.2, 1.5, -0.3, 1.3]\n",
        "\n",
        "def plot_dataset(X, y, axes=DEFAULT_AXIS):\n",
        "    plt.plot(X[:, 0][y==0], X[:, 1][y==0], \"bs\")\n",
        "    plt.plot(X[:, 0][y==1], X[:, 1][y==1], \"g^\")\n",
        "    plt.axis(axes)\n",
        "    plt.grid(True, which='both')\n",
        "    plt.xlabel(r\"$x_1$\", fontsize=20)\n",
        "    plt.ylabel(r\"$x_2$\", fontsize=20, rotation=0)\n",
        "\n",
        "def plot_predictions(clf, axes=DEFAULT_AXIS, plot_sv=False, plot_cont=True):\n",
        "    x0s = np.linspace(axes[0], axes[1], 100)\n",
        "    x1s = np.linspace(axes[2], axes[3], 100)\n",
        "    x0, x1 = np.meshgrid(x0s, x1s)\n",
        "    X = np.c_[x0.ravel(), x1.ravel()]\n",
        "    y_pred = clf.predict(X).reshape(x0.shape)\n",
        "    y_decision = clf.decision_function(X).reshape(x0.shape)\n",
        "    plt.contourf(x0, x1, y_pred, cmap=plt.cm.brg, alpha=0.2)\n",
        "    if plot_cont:\n",
        "        plt.contourf(x0, x1, y_decision, cmap=plt.cm.brg, alpha=0.1)\n",
        "    if plot_sv:\n",
        "        try:\n",
        "            svs = clf[:-1].inverse_transform(clf.steps[-1][1].support_vectors_)\n",
        "            plt.scatter(svs[:, 0], svs[:, 1], s=180, facecolors='#FFAAAA')\n",
        "        except:\n",
        "            print(\"LinearSVC no guarda los Support Vectors, para eso us SVC con kernel='linear'\")\n",
        "      \n",
        "def plot_decision_boundary(clf, X, y, axes=DEFAULT_AXIS, alpha=0.5, contour=True):\n",
        "    x1s = np.linspace(axes[0], axes[1], 100)\n",
        "    x2s = np.linspace(axes[2], axes[3], 100)\n",
        "    x1, x2 = np.meshgrid(x1s, x2s)\n",
        "    X_new = np.c_[x1.ravel(), x2.ravel()]\n",
        "    y_pred = clf.predict(X_new).reshape(x1.shape)\n",
        "    custom_cmap = ListedColormap(['#fafab0','#9898ff','#a0faa0'])\n",
        "    plt.contourf(x1, x2, y_pred, alpha=0.3, cmap=custom_cmap)\n",
        "    if contour:\n",
        "        custom_cmap2 = ListedColormap(['#7d7d58','#4c4c7f','#507d50'])\n",
        "        plt.contour(x1, x2, y_pred, cmap=custom_cmap2, alpha=0.8)\n",
        "    plt.plot(X[:, 0][y==0], X[:, 1][y==0], \"yo\", alpha=alpha)\n",
        "    plt.plot(X[:, 0][y==1], X[:, 1][y==1], \"bs\", alpha=alpha)\n",
        "    plt.axis(axes)\n",
        "    plt.xlabel(r\"$x_1$\", fontsize=18)\n",
        "    plt.ylabel(r\"$x_2$\", fontsize=18, rotation=0)"
      ],
      "execution_count": 21,
      "outputs": []
    },
    {
      "cell_type": "code",
      "metadata": {
        "id": "p6OjVs3iQi5-",
        "colab_type": "code",
        "colab": {
          "base_uri": "https://localhost:8080/",
          "height": 198
        },
        "outputId": "45210745-36a2-4041-8d3c-c2c9447f969f"
      },
      "source": [
        "# Leo los datos\n",
        "df1 = pd.read_csv('Hockey_Volley.csv',sep=';', header=0)\n",
        "df1.head()"
      ],
      "execution_count": 38,
      "outputs": [
        {
          "output_type": "execute_result",
          "data": {
            "text/html": [
              "<div>\n",
              "<style scoped>\n",
              "    .dataframe tbody tr th:only-of-type {\n",
              "        vertical-align: middle;\n",
              "    }\n",
              "\n",
              "    .dataframe tbody tr th {\n",
              "        vertical-align: top;\n",
              "    }\n",
              "\n",
              "    .dataframe thead th {\n",
              "        text-align: right;\n",
              "    }\n",
              "</style>\n",
              "<table border=\"1\" class=\"dataframe\">\n",
              "  <thead>\n",
              "    <tr style=\"text-align: right;\">\n",
              "      <th></th>\n",
              "      <th>Age_M</th>\n",
              "      <th>Height_M</th>\n",
              "      <th>Weight_M</th>\n",
              "      <th>Sport_M</th>\n",
              "      <th>Age_F</th>\n",
              "      <th>Height_F</th>\n",
              "      <th>Weight_F</th>\n",
              "      <th>Sport_F</th>\n",
              "    </tr>\n",
              "  </thead>\n",
              "  <tbody>\n",
              "    <tr>\n",
              "      <th>0</th>\n",
              "      <td>27</td>\n",
              "      <td>184</td>\n",
              "      <td>75</td>\n",
              "      <td>Hockey</td>\n",
              "      <td>26</td>\n",
              "      <td>171</td>\n",
              "      <td>60</td>\n",
              "      <td>Volleyball</td>\n",
              "    </tr>\n",
              "    <tr>\n",
              "      <th>1</th>\n",
              "      <td>31</td>\n",
              "      <td>171</td>\n",
              "      <td>71</td>\n",
              "      <td>Hockey</td>\n",
              "      <td>17</td>\n",
              "      <td>175</td>\n",
              "      <td>60</td>\n",
              "      <td>Volleyball</td>\n",
              "    </tr>\n",
              "    <tr>\n",
              "      <th>2</th>\n",
              "      <td>29</td>\n",
              "      <td>200</td>\n",
              "      <td>96</td>\n",
              "      <td>Volleyball</td>\n",
              "      <td>33</td>\n",
              "      <td>171</td>\n",
              "      <td>61</td>\n",
              "      <td>Hockey</td>\n",
              "    </tr>\n",
              "    <tr>\n",
              "      <th>3</th>\n",
              "      <td>26</td>\n",
              "      <td>194</td>\n",
              "      <td>88</td>\n",
              "      <td>Volleyball</td>\n",
              "      <td>23</td>\n",
              "      <td>184</td>\n",
              "      <td>80</td>\n",
              "      <td>Volleyball</td>\n",
              "    </tr>\n",
              "    <tr>\n",
              "      <th>4</th>\n",
              "      <td>31</td>\n",
              "      <td>201</td>\n",
              "      <td>86</td>\n",
              "      <td>Volleyball</td>\n",
              "      <td>24</td>\n",
              "      <td>191</td>\n",
              "      <td>79</td>\n",
              "      <td>Volleyball</td>\n",
              "    </tr>\n",
              "  </tbody>\n",
              "</table>\n",
              "</div>"
            ],
            "text/plain": [
              "   Age_M  Height_M  Weight_M     Sport_M  Age_F  Height_F  Weight_F     Sport_F\n",
              "0     27       184        75      Hockey     26       171        60  Volleyball\n",
              "1     31       171        71      Hockey     17       175        60  Volleyball\n",
              "2     29       200        96  Volleyball     33       171        61      Hockey\n",
              "3     26       194        88  Volleyball     23       184        80  Volleyball\n",
              "4     31       201        86  Volleyball     24       191        79  Volleyball"
            ]
          },
          "metadata": {
            "tags": []
          },
          "execution_count": 38
        }
      ]
    },
    {
      "cell_type": "markdown",
      "metadata": {
        "id": "sDsXKv90Qi6F",
        "colab_type": "text"
      },
      "source": [
        "**a.** Grafique los datos. (*Ayuda*: use las clases de <tt>matplotlib.pyplot</tt> o los métodos del <tt>DataFrame</tt> de <tt>pandas</tt>)."
      ]
    },
    {
      "cell_type": "markdown",
      "metadata": {
        "id": "mtNXOJOD43cw",
        "colab_type": "text"
      },
      "source": [
        "**Denomino a Hockey = 1 y Volleyball = 0.**\n"
      ]
    },
    {
      "cell_type": "code",
      "metadata": {
        "id": "0IvIiTr89PIo",
        "colab_type": "code",
        "colab": {
          "base_uri": "https://localhost:8080/",
          "height": 199
        },
        "outputId": "909bdc81-b009-47f2-c700-2ce83bdf3933"
      },
      "source": [
        "# Convierto el frame de pandas a un np.array\n",
        "sport_1=df1.to_numpy()\n",
        "print(sport_1[:10,:])"
      ],
      "execution_count": 39,
      "outputs": [
        {
          "output_type": "stream",
          "text": [
            "[[27 184 75 'Hockey' 26 171 60 'Volleyball']\n",
            " [31 171 71 'Hockey' 17 175 60 'Volleyball']\n",
            " [29 200 96 'Volleyball' 33 171 61 'Hockey']\n",
            " [26 194 88 'Volleyball' 23 184 80 'Volleyball']\n",
            " [31 201 86 'Volleyball' 24 191 79 'Volleyball']\n",
            " [34 183 78 'Hockey' 27 155 51 'Hockey']\n",
            " [25 208 93 'Volleyball' 28 186 80 'Volleyball']\n",
            " [31 200 97 'Volleyball' 20 192 68 'Volleyball']\n",
            " [29 203 106 'Volleyball' 27 185 72 'Volleyball']\n",
            " [31 186 78 'Hockey' 25 164 60 'Hockey']]\n"
          ],
          "name": "stdout"
        }
      ]
    },
    {
      "cell_type": "code",
      "metadata": {
        "id": "Ds-mtvvN8V-J",
        "colab_type": "code",
        "colab": {}
      },
      "source": [
        "for i in range(0, len(sport_1[:,3])):\n",
        "  if sport_1[i,3] == 'Hockey':\n",
        "    sport_1[i,3] = 1\n",
        "  else:\n",
        "      sport_1[i,3] = 0\n"
      ],
      "execution_count": 40,
      "outputs": []
    },
    {
      "cell_type": "code",
      "metadata": {
        "id": "tMsBmkuUCVIf",
        "colab_type": "code",
        "colab": {}
      },
      "source": [
        "for i in range(0, len(sport_1[:,7])):\n",
        "  if sport_1[i,7] == 'Hockey':\n",
        "    sport_1[i,7] = 1\n",
        "  else:\n",
        "      sport_1[i,7] = 0\n"
      ],
      "execution_count": 41,
      "outputs": []
    },
    {
      "cell_type": "code",
      "metadata": {
        "id": "maHedykcCfRE",
        "colab_type": "code",
        "colab": {
          "base_uri": "https://localhost:8080/",
          "height": 199
        },
        "outputId": "b477ba55-674e-47a6-9280-3c5755b42f0b"
      },
      "source": [
        "print(sport_1[:10,:])"
      ],
      "execution_count": 42,
      "outputs": [
        {
          "output_type": "stream",
          "text": [
            "[[27 184 75 1 26 171 60 0]\n",
            " [31 171 71 1 17 175 60 0]\n",
            " [29 200 96 0 33 171 61 1]\n",
            " [26 194 88 0 23 184 80 0]\n",
            " [31 201 86 0 24 191 79 0]\n",
            " [34 183 78 1 27 155 51 1]\n",
            " [25 208 93 0 28 186 80 0]\n",
            " [31 200 97 0 20 192 68 0]\n",
            " [29 203 106 0 27 185 72 0]\n",
            " [31 186 78 1 25 164 60 1]]\n"
          ],
          "name": "stdout"
        }
      ]
    },
    {
      "cell_type": "markdown",
      "metadata": {
        "id": "AiDofMXNXF1x",
        "colab_type": "text"
      },
      "source": [
        "**Separo en grupos de hombres y mujeres.**"
      ]
    },
    {
      "cell_type": "code",
      "metadata": {
        "id": "amIsV55lO8eT",
        "colab_type": "code",
        "colab": {
          "base_uri": "https://localhost:8080/",
          "height": 35
        },
        "outputId": "8a7b1791-2f4e-4b34-aeae-67735ff300b0"
      },
      "source": [
        "sport_1_M = sport_1[:,1:4]\n",
        "sport_1_F = sport_1[:,5:8]\n",
        "print(sport_1_M.shape,sport_1_F.shape)"
      ],
      "execution_count": 43,
      "outputs": [
        {
          "output_type": "stream",
          "text": [
            "(305, 3) (305, 3)\n"
          ],
          "name": "stdout"
        }
      ]
    },
    {
      "cell_type": "code",
      "metadata": {
        "id": "-6iXXVCNk8L9",
        "colab_type": "code",
        "colab": {
          "base_uri": "https://localhost:8080/",
          "height": 198
        },
        "outputId": "6ba21ee3-61a6-4d8e-deb5-cdf1673d9612"
      },
      "source": [
        "df_M = pd.DataFrame(sport_1_M)\n",
        "df_M.columns = ['Height_M','Weight_M','Sport_M']\n",
        "df_M.head()"
      ],
      "execution_count": 44,
      "outputs": [
        {
          "output_type": "execute_result",
          "data": {
            "text/html": [
              "<div>\n",
              "<style scoped>\n",
              "    .dataframe tbody tr th:only-of-type {\n",
              "        vertical-align: middle;\n",
              "    }\n",
              "\n",
              "    .dataframe tbody tr th {\n",
              "        vertical-align: top;\n",
              "    }\n",
              "\n",
              "    .dataframe thead th {\n",
              "        text-align: right;\n",
              "    }\n",
              "</style>\n",
              "<table border=\"1\" class=\"dataframe\">\n",
              "  <thead>\n",
              "    <tr style=\"text-align: right;\">\n",
              "      <th></th>\n",
              "      <th>Height_M</th>\n",
              "      <th>Weight_M</th>\n",
              "      <th>Sport_M</th>\n",
              "    </tr>\n",
              "  </thead>\n",
              "  <tbody>\n",
              "    <tr>\n",
              "      <th>0</th>\n",
              "      <td>184</td>\n",
              "      <td>75</td>\n",
              "      <td>1</td>\n",
              "    </tr>\n",
              "    <tr>\n",
              "      <th>1</th>\n",
              "      <td>171</td>\n",
              "      <td>71</td>\n",
              "      <td>1</td>\n",
              "    </tr>\n",
              "    <tr>\n",
              "      <th>2</th>\n",
              "      <td>200</td>\n",
              "      <td>96</td>\n",
              "      <td>0</td>\n",
              "    </tr>\n",
              "    <tr>\n",
              "      <th>3</th>\n",
              "      <td>194</td>\n",
              "      <td>88</td>\n",
              "      <td>0</td>\n",
              "    </tr>\n",
              "    <tr>\n",
              "      <th>4</th>\n",
              "      <td>201</td>\n",
              "      <td>86</td>\n",
              "      <td>0</td>\n",
              "    </tr>\n",
              "  </tbody>\n",
              "</table>\n",
              "</div>"
            ],
            "text/plain": [
              "  Height_M Weight_M Sport_M\n",
              "0      184       75       1\n",
              "1      171       71       1\n",
              "2      200       96       0\n",
              "3      194       88       0\n",
              "4      201       86       0"
            ]
          },
          "metadata": {
            "tags": []
          },
          "execution_count": 44
        }
      ]
    },
    {
      "cell_type": "code",
      "metadata": {
        "id": "quNEZ6lalDiC",
        "colab_type": "code",
        "colab": {
          "base_uri": "https://localhost:8080/",
          "height": 198
        },
        "outputId": "b486f2b8-432d-43dd-8908-a4390d1eacb5"
      },
      "source": [
        "df_F = pd.DataFrame(sport_1_F)\n",
        "df_F.columns = ['Height_F','Weight_F','Sport_F']\n",
        "df_F.head()"
      ],
      "execution_count": 46,
      "outputs": [
        {
          "output_type": "execute_result",
          "data": {
            "text/html": [
              "<div>\n",
              "<style scoped>\n",
              "    .dataframe tbody tr th:only-of-type {\n",
              "        vertical-align: middle;\n",
              "    }\n",
              "\n",
              "    .dataframe tbody tr th {\n",
              "        vertical-align: top;\n",
              "    }\n",
              "\n",
              "    .dataframe thead th {\n",
              "        text-align: right;\n",
              "    }\n",
              "</style>\n",
              "<table border=\"1\" class=\"dataframe\">\n",
              "  <thead>\n",
              "    <tr style=\"text-align: right;\">\n",
              "      <th></th>\n",
              "      <th>Height_F</th>\n",
              "      <th>Weight_F</th>\n",
              "      <th>Sport_F</th>\n",
              "    </tr>\n",
              "  </thead>\n",
              "  <tbody>\n",
              "    <tr>\n",
              "      <th>0</th>\n",
              "      <td>171</td>\n",
              "      <td>60</td>\n",
              "      <td>0</td>\n",
              "    </tr>\n",
              "    <tr>\n",
              "      <th>1</th>\n",
              "      <td>175</td>\n",
              "      <td>60</td>\n",
              "      <td>0</td>\n",
              "    </tr>\n",
              "    <tr>\n",
              "      <th>2</th>\n",
              "      <td>171</td>\n",
              "      <td>61</td>\n",
              "      <td>1</td>\n",
              "    </tr>\n",
              "    <tr>\n",
              "      <th>3</th>\n",
              "      <td>184</td>\n",
              "      <td>80</td>\n",
              "      <td>0</td>\n",
              "    </tr>\n",
              "    <tr>\n",
              "      <th>4</th>\n",
              "      <td>191</td>\n",
              "      <td>79</td>\n",
              "      <td>0</td>\n",
              "    </tr>\n",
              "  </tbody>\n",
              "</table>\n",
              "</div>"
            ],
            "text/plain": [
              "  Height_F Weight_F Sport_F\n",
              "0      171       60       0\n",
              "1      175       60       0\n",
              "2      171       61       1\n",
              "3      184       80       0\n",
              "4      191       79       0"
            ]
          },
          "metadata": {
            "tags": []
          },
          "execution_count": 46
        }
      ]
    },
    {
      "cell_type": "code",
      "metadata": {
        "id": "GW3bHOhcP6Jj",
        "colab_type": "code",
        "colab": {}
      },
      "source": [
        "XM_1=sport_1_M[:,:2]\n",
        "yM_1=sport_1_M[:,2]\n",
        "XF_1=sport_1_F[:,:2]\n",
        "yF_1=sport_1_F[:,2]"
      ],
      "execution_count": 48,
      "outputs": []
    },
    {
      "cell_type": "code",
      "metadata": {
        "id": "elXPT-jtOpuH",
        "colab_type": "code",
        "colab": {}
      },
      "source": [
        "from sklearn.model_selection import train_test_split\n",
        "from sklearn.preprocessing import StandardScaler"
      ],
      "execution_count": 49,
      "outputs": []
    },
    {
      "cell_type": "markdown",
      "metadata": {
        "id": "w9SM-E5KW_6S",
        "colab_type": "text"
      },
      "source": [
        "**Divido en set de train y test.**"
      ]
    },
    {
      "cell_type": "code",
      "metadata": {
        "id": "NOxmYnZAOtgk",
        "colab_type": "code",
        "colab": {}
      },
      "source": [
        "XM1_train, XM1_test, yM1_train, yM1_test = train_test_split(XM_1, yM_1, test_size=0.3, random_state=42)\n",
        "XF1_train, XF1_test, yF1_train, yF1_test = train_test_split(XF_1, yF_1, test_size=0.3, random_state=42)"
      ],
      "execution_count": 50,
      "outputs": []
    },
    {
      "cell_type": "code",
      "metadata": {
        "id": "f-Dddm3hQqSB",
        "colab_type": "code",
        "colab": {
          "base_uri": "https://localhost:8080/",
          "height": 35
        },
        "outputId": "bfd1fabf-2bb2-4b1c-fcd0-fd160dff20f9"
      },
      "source": [
        "print(yM1_train.shape,yM1_test.shape)"
      ],
      "execution_count": 51,
      "outputs": [
        {
          "output_type": "stream",
          "text": [
            "(213,) (92,)\n"
          ],
          "name": "stdout"
        }
      ]
    },
    {
      "cell_type": "markdown",
      "metadata": {
        "id": "YRR5-rgDWxqE",
        "colab_type": "text"
      },
      "source": [
        "**Defino el tipo de número dentro de 'y' porque si no no funciona el entrenamiento.**"
      ]
    },
    {
      "cell_type": "code",
      "metadata": {
        "id": "1lAMI5KNWlYl",
        "colab_type": "code",
        "colab": {}
      },
      "source": [
        "yM1_train=yM1_train.astype('int')\n",
        "yM1_test=yM1_test.astype('int')\n",
        "yF1_train=yF1_train.astype('int')\n",
        "yF1_test=yF1_test.astype('int') "
      ],
      "execution_count": 52,
      "outputs": []
    },
    {
      "cell_type": "code",
      "metadata": {
        "id": "RJbDgmq3Pbc6",
        "colab_type": "code",
        "colab": {}
      },
      "source": [
        "from sklearn.metrics import confusion_matrix, accuracy_score, recall_score, precision_score\n",
        "from sklearn.linear_model import LogisticRegression\n",
        "from sklearn.pipeline import Pipeline\n",
        "from sklearn.model_selection import cross_val_score, RandomizedSearchCV\n",
        "from scipy.stats import reciprocal,uniform"
      ],
      "execution_count": 53,
      "outputs": []
    },
    {
      "cell_type": "markdown",
      "metadata": {
        "id": "zSzRGqTWXMHT",
        "colab_type": "text"
      },
      "source": [
        "**Hago un escalado de los datos.**"
      ]
    },
    {
      "cell_type": "code",
      "metadata": {
        "id": "u267zjCMPeXR",
        "colab_type": "code",
        "colab": {}
      },
      "source": [
        "from sklearn.preprocessing import StandardScaler\n",
        "scaler = StandardScaler()\n",
        "XM_train_1 = scaler.fit_transform(XM1_train)\n",
        "XM_test_1 = scaler.transform(XM1_test)\n",
        "XF_train_1 = scaler.fit_transform(XF1_train)\n",
        "XF_test_1 = scaler.transform(XF1_test)"
      ],
      "execution_count": 54,
      "outputs": []
    },
    {
      "cell_type": "code",
      "metadata": {
        "id": "w4c7XXjkQ9K6",
        "colab_type": "code",
        "colab": {
          "base_uri": "https://localhost:8080/",
          "height": 35
        },
        "outputId": "08d5cbe6-ad45-4377-e595-51477da5ccd5"
      },
      "source": [
        "print(XM_train_1.shape, yM1_train.shape)"
      ],
      "execution_count": 55,
      "outputs": [
        {
          "output_type": "stream",
          "text": [
            "(213, 2) (213,)\n"
          ],
          "name": "stdout"
        }
      ]
    },
    {
      "cell_type": "code",
      "metadata": {
        "id": "Z_3PIO41kreJ",
        "colab_type": "code",
        "colab": {
          "base_uri": "https://localhost:8080/",
          "height": 90
        },
        "outputId": "739396fc-dfcf-452b-b858-36a958f35821"
      },
      "source": [
        "print(np.min(XM_train_1[:,0]),np.max(XM_train_1[:,0]))\n",
        "print(np.min(XM_train_1[:,1]),np.max(XM_train_1[:,1]))\n",
        "print(np.min(XF_train_1[:,0]),np.max(XF_train_1[:,0]))\n",
        "print(np.min(XF_train_1[:,1]),np.max(XF_train_1[:,1]))"
      ],
      "execution_count": 56,
      "outputs": [
        {
          "output_type": "stream",
          "text": [
            "-3.0822569827372077 2.3983642866553567\n",
            "-3.238322869387113 3.230730084230284\n",
            "-1.9505370058990552 2.879320960347155\n",
            "-1.7146134931379786 3.960988873674831\n"
          ],
          "name": "stdout"
        }
      ]
    },
    {
      "cell_type": "code",
      "metadata": {
        "id": "8PhAB2qClAiD",
        "colab_type": "code",
        "colab": {}
      },
      "source": [
        "Axis_M= [-3.5, 3, -3.5, 3.5]\n",
        "Axis_F= [-2, 3, -2, 4]"
      ],
      "execution_count": 57,
      "outputs": []
    },
    {
      "cell_type": "code",
      "metadata": {
        "id": "jQEh0Bn-li45",
        "colab_type": "code",
        "colab": {
          "base_uri": "https://localhost:8080/",
          "height": 288
        },
        "outputId": "446b6a54-0b97-4cde-e7f2-ecf2735a55d0"
      },
      "source": [
        "plot_dataset(XM_train_1, yM1_train, axes=Axis_M)"
      ],
      "execution_count": 58,
      "outputs": [
        {
          "output_type": "display_data",
          "data": {
            "image/png": "[encoded data removed]",
            "text/plain": [
              "<Figure size 432x288 with 1 Axes>"
            ]
          },
          "metadata": {
            "tags": [],
            "needs_background": "light"
          }
        }
      ]
    },
    {
      "cell_type": "code",
      "metadata": {
        "id": "YB9xDqholvoj",
        "colab_type": "code",
        "colab": {
          "base_uri": "https://localhost:8080/",
          "height": 292
        },
        "outputId": "7362b812-4eaa-4d90-cccc-aa81df5d42a8"
      },
      "source": [
        "plot_dataset(XF_train_1, yF1_train, axes=Axis_F)"
      ],
      "execution_count": 59,
      "outputs": [
        {
          "output_type": "display_data",
          "data": {
            "image/png": "[encoded data removed]",
            "text/plain": [
              "<Figure size 432x288 with 1 Axes>"
            ]
          },
          "metadata": {
            "tags": [],
            "needs_background": "light"
          }
        }
      ]
    },
    {
      "cell_type": "code",
      "metadata": {
        "id": "db2wuLmQPqfp",
        "colab_type": "code",
        "colab": {
          "base_uri": "https://localhost:8080/",
          "height": 72
        },
        "outputId": "37020010-b4bb-4268-ee9f-deacf3950c64"
      },
      "source": [
        "#1 Logistic regression\n",
        "from sklearn.linear_model import LogisticRegression\n",
        "import sklearn.preprocessing as pp\n",
        "from sklearn.pipeline import Pipeline\n",
        "\n",
        "lr = LogisticRegression(solver = 'saga', max_iter=200, random_state=42)\n",
        "              \n",
        "parametros_lr = {\n",
        "    'penalty':['l2', 'l1'],\n",
        "    'C': uniform(1,10)}\n",
        "\n",
        "lr_clf = RandomizedSearchCV(lr, parametros_lr, scoring= 'accuracy', cv=5, random_state=3) \n",
        "search_lr = lr_clf.fit(XM_train_1, yM1_train)\n",
        "print('The parameters combination that would give best accuracy is : ')\n",
        "print(lr_clf.best_params_)\n",
        "print('The best accuracy achieved after parameter tuning via grid search is : ', lr_clf.best_score_)"
      ],
      "execution_count": 60,
      "outputs": [
        {
          "output_type": "stream",
          "text": [
            "The parameters combination that would give best accuracy is : \n",
            "{'C': 3.4788829722603554, 'penalty': 'l2'}\n",
            "The best accuracy achieved after parameter tuning via grid search is :  0.920265780730897\n"
          ],
          "name": "stdout"
        }
      ]
    },
    {
      "cell_type": "code",
      "metadata": {
        "id": "Cly_JFWfXc7W",
        "colab_type": "code",
        "colab": {
          "base_uri": "https://localhost:8080/",
          "height": 72
        },
        "outputId": "cc09b8ae-b611-4f9d-a89f-275a1deb48c0"
      },
      "source": [
        "lr_clf = LogisticRegression(penalty = 'l2', C = 3.47, random_state=42, solver = 'saga', max_iter=200)\n",
        "\n",
        "\n",
        "Acc_lr = cross_val_score(lr_clf, XM_train_1,yM1_train, scoring= 'accuracy',cv=5)\n",
        "print('la media del accuracy es: ',Acc_lr.mean()*100,'% +-',Acc_lr.std()*100)\n",
        "\n",
        "Pre_lr = cross_val_score(lr_clf, XM_train_1,yM1_train, scoring= 'precision',cv=5)\n",
        "print('la media del precision es: ',Pre_lr.mean()*100,'% +-',Pre_lr.std()*100)\n",
        "\n",
        "Rec_lr = cross_val_score(lr_clf, XM_train_1,yM1_train, scoring= 'recall',cv=5)\n",
        "print('la media del recall es: ',Rec_lr.mean()*100,'% +-', Rec_lr.std()*100)"
      ],
      "execution_count": 65,
      "outputs": [
        {
          "output_type": "stream",
          "text": [
            "la media del accuracy es:  92.02657807308971 % +- 1.0867393510828025\n",
            "la media del precision es:  91.7454123975863 % +- 2.4700809653152964\n",
            "la media del recall es:  95.23076923076923 % +- 3.925941638827466\n"
          ],
          "name": "stdout"
        }
      ]
    },
    {
      "cell_type": "code",
      "metadata": {
        "id": "eQPbkM1WrsTQ",
        "colab_type": "code",
        "colab": {
          "base_uri": "https://localhost:8080/",
          "height": 108
        },
        "outputId": "1b6edbba-1bae-4f29-b27d-70d1ca311752"
      },
      "source": [
        "lr_clf.fit(XM_train_1, yM1_train)"
      ],
      "execution_count": 68,
      "outputs": [
        {
          "output_type": "execute_result",
          "data": {
            "text/plain": [
              "LogisticRegression(C=3.47, class_weight=None, dual=False, fit_intercept=True,\n",
              "                   intercept_scaling=1, l1_ratio=None, max_iter=200,\n",
              "                   multi_class='auto', n_jobs=None, penalty='l2',\n",
              "                   random_state=42, solver='saga', tol=0.0001, verbose=0,\n",
              "                   warm_start=False)"
            ]
          },
          "metadata": {
            "tags": []
          },
          "execution_count": 68
        }
      ]
    },
    {
      "cell_type": "code",
      "metadata": {
        "id": "uf5gncuARo_J",
        "colab_type": "code",
        "colab": {}
      },
      "source": [
        "#Support vector machine\n",
        "from sklearn import svm\n",
        "from sklearn.model_selection import RandomizedSearchCV\n",
        "import sklearn.preprocessing as pp\n",
        "from sklearn.pipeline import Pipeline\n",
        "from scipy.stats import reciprocal,uniform\n",
        "\n",
        "SVM = svm.SVC(kernel = 'rbf', random_state= 3, probability=True)\n",
        "\n",
        "parametros_svm = {\n",
        "    \"C\": uniform(1,5),\n",
        "    \"gamma\": reciprocal(0.1,0.2)}\n",
        "\n",
        "svm_clf= RandomizedSearchCV (SVM, parametros_svm,\n",
        "                             verbose=2,\n",
        "                             n_iter=10, cv=5, random_state=3, scoring='accuracy')"
      ],
      "execution_count": 63,
      "outputs": []
    },
    {
      "cell_type": "code",
      "metadata": {
        "id": "Nc0g3-1vXvSo",
        "colab_type": "code",
        "colab": {
          "base_uri": "https://localhost:8080/",
          "height": 1000
        },
        "outputId": "ac8bd48e-c3c0-48f7-c698-25eb4e9e6055"
      },
      "source": [
        "search_svm = svm_clf.fit(XM_train_1, yM1_train)\n",
        "print('The parameters combination that would give best accuracy is : ')\n",
        "print(svm_clf.best_params_)\n",
        "print('The best accuracy achieved after parameter tuning via grid search is : ', svm_clf.best_score_)"
      ],
      "execution_count": 64,
      "outputs": [
        {
          "output_type": "stream",
          "text": [
            "Fitting 5 folds for each of 10 candidates, totalling 50 fits\n",
            "[CV] C=3.7539895128728773, gamma=0.16337053677214383 .................\n",
            "[CV] .. C=3.7539895128728773, gamma=0.16337053677214383, total=   0.0s\n",
            "[CV] C=3.7539895128728773, gamma=0.16337053677214383 .................\n",
            "[CV] .. C=3.7539895128728773, gamma=0.16337053677214383, total=   0.0s\n",
            "[CV] C=3.7539895128728773, gamma=0.16337053677214383 .................\n",
            "[CV] .. C=3.7539895128728773, gamma=0.16337053677214383, total=   0.0s\n",
            "[CV] C=3.7539895128728773, gamma=0.16337053677214383 .................\n",
            "[CV] .. C=3.7539895128728773, gamma=0.16337053677214383, total=   0.0s\n",
            "[CV] C=3.7539895128728773, gamma=0.16337053677214383 .................\n",
            "[CV] .. C=3.7539895128728773, gamma=0.16337053677214383, total=   0.0s\n",
            "[CV] C=2.4545236945647217, gamma=0.1424867339493832 ..................\n",
            "[CV] ... C=2.4545236945647217, gamma=0.1424867339493832, total=   0.0s\n",
            "[CV] C=2.4545236945647217, gamma=0.1424867339493832 ..................\n",
            "[CV] ... C=2.4545236945647217, gamma=0.1424867339493832, total=   0.0s\n",
            "[CV] C=2.4545236945647217, gamma=0.1424867339493832 ..................\n",
            "[CV] ... C=2.4545236945647217, gamma=0.1424867339493832, total=   0.0s\n",
            "[CV] C=2.4545236945647217, gamma=0.1424867339493832 ..................\n",
            "[CV] ... C=2.4545236945647217, gamma=0.1424867339493832, total=   0.0s\n",
            "[CV] C=2.4545236945647217, gamma=0.1424867339493832 ..................\n",
            "[CV] ... C=2.4545236945647217, gamma=0.1424867339493832, total=   0.0s\n",
            "[CV] C=5.464734771738273, gamma=0.1861277402517185 ...................\n",
            "[CV] .... C=5.464734771738273, gamma=0.1861277402517185, total=   0.0s\n",
            "[CV] C=5.464734771738273, gamma=0.1861277402517185 ...................\n",
            "[CV] .... C=5.464734771738273, gamma=0.1861277402517185, total=   0.0s\n",
            "[CV] C=5.464734771738273, gamma=0.1861277402517185 ...................\n",
            "[CV] .... C=5.464734771738273, gamma=0.1861277402517185, total=   0.0s\n",
            "[CV] C=5.464734771738273, gamma=0.1861277402517185 ...................\n",
            "[CV] .... C=5.464734771738273, gamma=0.1861277402517185, total=   0.0s\n",
            "[CV] C=5.464734771738273, gamma=0.1861277402517185 ...................\n",
            "[CV] .... C=5.464734771738273, gamma=0.1861277402517185, total=   0.0s\n",
            "[CV] C=1.6279265523191813, gamma=0.11544797581675524 .................\n",
            "[CV] .. C=1.6279265523191813, gamma=0.11544797581675524, total=   0.0s\n",
            "[CV] C=1.6279265523191813, gamma=0.11544797581675524 .................\n",
            "[CV] .. C=1.6279265523191813, gamma=0.11544797581675524, total=   0.0s\n",
            "[CV] C=1.6279265523191813, gamma=0.11544797581675524 .................\n",
            "[CV] .. C=1.6279265523191813, gamma=0.11544797581675524, total=   0.0s\n",
            "[CV] C=1.6279265523191813, gamma=0.11544797581675524 .................\n",
            "[CV] .. C=1.6279265523191813, gamma=0.11544797581675524, total=   0.0s\n",
            "[CV] C=1.6279265523191813, gamma=0.11544797581675524 .................\n",
            "[CV] .. C=1.6279265523191813, gamma=0.11544797581675524, total=   0.0s\n",
            "[CV] C=1.2573360165041494, gamma=0.13573660586400524 .................\n",
            "[CV] .. C=1.2573360165041494, gamma=0.13573660586400524, total=   0.0s\n",
            "[CV] C=1.2573360165041494, gamma=0.13573660586400524 .................\n",
            "[CV] .. C=1.2573360165041494, gamma=0.13573660586400524, total=   0.0s\n",
            "[CV] C=1.2573360165041494, gamma=0.13573660586400524 .................\n",
            "[CV] .. C=1.2573360165041494, gamma=0.13573660586400524, total=   0.0s\n",
            "[CV] C=1.2573360165041494, gamma=0.13573660586400524 .................\n",
            "[CV] .. C=1.2573360165041494, gamma=0.13573660586400524, total=   0.0s\n",
            "[CV] C=1.2573360165041494, gamma=0.13573660586400524 .................\n",
            "[CV] .. C=1.2573360165041494, gamma=0.13573660586400524, total=   0.0s\n",
            "[CV] C=1.1493810543928347, gamma=0.13725257580504285 .................\n",
            "[CV] .. C=1.1493810543928347, gamma=0.13725257580504285, total=   0.0s\n",
            "[CV] C=1.1493810543928347, gamma=0.13725257580504285 .................\n",
            "[CV] .. C=1.1493810543928347, gamma=0.13725257580504285, total=   0.0s\n",
            "[CV] C=1.1493810543928347, gamma=0.13725257580504285 .................\n",
            "[CV] .. C=1.1493810543928347, gamma=0.13725257580504285, total=   0.0s\n",
            "[CV] C=1.1493810543928347, gamma=0.13725257580504285 .................\n",
            "[CV] .. C=1.1493810543928347, gamma=0.13725257580504285, total=   0.0s\n",
            "[CV] C=1.1493810543928347, gamma=0.13725257580504285 .................\n",
            "[CV] .. C=1.1493810543928347, gamma=0.13725257580504285, total=   0.0s\n",
            "[CV] C=4.245720238073804, gamma=0.12129224248562456 ..................\n",
            "[CV] ... C=4.245720238073804, gamma=0.12129224248562456, total=   0.0s\n",
            "[CV] C=4.245720238073804, gamma=0.12129224248562456 ..................\n",
            "[CV] ... C=4.245720238073804, gamma=0.12129224248562456, total=   0.0s\n",
            "[CV] C=4.245720238073804, gamma=0.12129224248562456 ..................\n",
            "[CV] ... C=4.245720238073804, gamma=0.12129224248562456, total=   0.0s\n",
            "[CV] C=4.245720238073804, gamma=0.12129224248562456 ..................\n",
            "[CV] ... C=4.245720238073804, gamma=0.12129224248562456, total=   0.0s\n",
            "[CV] C=4.245720238073804, gamma=0.12129224248562456 ..................\n",
            "[CV] ... C=4.245720238073804, gamma=0.12129224248562456, total=   0.0s\n",
            "[CV] C=4.381274509900656, gamma=0.15061472437155365 ..................\n",
            "[CV] ... C=4.381274509900656, gamma=0.15061472437155365, total=   0.0s\n",
            "[CV] C=4.381274509900656, gamma=0.15061472437155365 ..................\n",
            "[CV] ... C=4.381274509900656, gamma=0.15061472437155365, total=   0.0s\n",
            "[CV] C=4.381274509900656, gamma=0.15061472437155365 ..................\n",
            "[CV] ... C=4.381274509900656, gamma=0.15061472437155365, total=   0.0s\n",
            "[CV] C=4.381274509900656, gamma=0.15061472437155365 ..................\n",
            "[CV] ... C=4.381274509900656, gamma=0.15061472437155365, total=   0.0s\n",
            "[CV] C=4.381274509900656, gamma=0.15061472437155365 ..................\n",
            "[CV] ... C=4.381274509900656, gamma=0.15061472437155365, total=   0.0s\n",
            "[CV] C=1.1199094118858268, gamma=0.14730986912934205 .................\n",
            "[CV] .. C=1.1199094118858268, gamma=0.14730986912934205, total=   0.0s\n",
            "[CV] C=1.1199094118858268, gamma=0.14730986912934205 .................\n",
            "[CV] .. C=1.1199094118858268, gamma=0.14730986912934205, total=   0.0s\n",
            "[CV] C=1.1199094118858268, gamma=0.14730986912934205 .................\n",
            "[CV] .. C=1.1199094118858268, gamma=0.14730986912934205, total=   0.0s\n",
            "[CV] C=1.1199094118858268, gamma=0.14730986912934205 .................\n",
            "[CV] .. C=1.1199094118858268, gamma=0.14730986912934205, total=   0.0s\n",
            "[CV] C=1.1199094118858268, gamma=0.14730986912934205 .................\n"
          ],
          "name": "stdout"
        },
        {
          "output_type": "stream",
          "text": [
            "[Parallel(n_jobs=1)]: Using backend SequentialBackend with 1 concurrent workers.\n",
            "[Parallel(n_jobs=1)]: Done   1 out of   1 | elapsed:    0.0s remaining:    0.0s\n"
          ],
          "name": "stderr"
        },
        {
          "output_type": "stream",
          "text": [
            "[CV] .. C=1.1199094118858268, gamma=0.14730986912934205, total=   0.0s\n",
            "[CV] C=2.296262234537327, gamma=0.13333922038366894 ..................\n",
            "[CV] ... C=2.296262234537327, gamma=0.13333922038366894, total=   0.0s\n",
            "[CV] C=2.296262234537327, gamma=0.13333922038366894 ..................\n",
            "[CV] ... C=2.296262234537327, gamma=0.13333922038366894, total=   0.0s\n",
            "[CV] C=2.296262234537327, gamma=0.13333922038366894 ..................\n",
            "[CV] ... C=2.296262234537327, gamma=0.13333922038366894, total=   0.0s\n",
            "[CV] C=2.296262234537327, gamma=0.13333922038366894 ..................\n",
            "[CV] ... C=2.296262234537327, gamma=0.13333922038366894, total=   0.0s\n",
            "[CV] C=2.296262234537327, gamma=0.13333922038366894 ..................\n",
            "[CV] ... C=2.296262234537327, gamma=0.13333922038366894, total=   0.0s\n",
            "The parameters combination that would give best accuracy is : \n",
            "{'C': 4.381274509900656, 'gamma': 0.15061472437155365}\n",
            "The best accuracy achieved after parameter tuning via grid search is :  0.9156146179401994\n"
          ],
          "name": "stdout"
        },
        {
          "output_type": "stream",
          "text": [
            "[Parallel(n_jobs=1)]: Done  50 out of  50 | elapsed:    0.2s finished\n"
          ],
          "name": "stderr"
        }
      ]
    },
    {
      "cell_type": "code",
      "metadata": {
        "id": "L4uuMWlBX81N",
        "colab_type": "code",
        "colab": {
          "base_uri": "https://localhost:8080/",
          "height": 72
        },
        "outputId": "9819527d-d5ea-43d5-9504-9d60ccd5ec28"
      },
      "source": [
        "svm_clf = svm.SVC( C= 4.381, kernel = 'rbf', gamma = 0.1506, probability=True, random_state= 3)\n",
        "\n",
        "Acc_svm = cross_val_score(svm_clf, XM_train_1,yM1_train, scoring= 'accuracy',cv=5)\n",
        "print('la media del accuracy es:',Acc_svm.mean()*100,'% +-',Acc_svm.std()*100)\n",
        "\n",
        "Pre_svm = cross_val_score(svm_clf, XM_train_1,yM1_train, scoring= 'precision',cv=5)\n",
        "print('la media del precision es:',Pre_svm.mean()*100,'% +-',Pre_svm.std()*100)\n",
        "\n",
        "Rec_svm = cross_val_score(svm_clf, XM_train_1,yM1_train, scoring= 'recall',cv=5)\n",
        "print('la media del recall es:',Rec_svm.mean()*100,'% +-',Rec_svm.std()*100)"
      ],
      "execution_count": 66,
      "outputs": [
        {
          "output_type": "stream",
          "text": [
            "la media del accuracy es: 91.56146179401993 % +- 1.8117738477655794\n",
            "la media del precision es: 91.65994231211621 % +- 2.5727058001499814\n",
            "la media del recall es: 94.43076923076923 % +- 4.0917292824318245\n"
          ],
          "name": "stdout"
        }
      ]
    },
    {
      "cell_type": "code",
      "metadata": {
        "id": "zLz8Ljxwrv8t",
        "colab_type": "code",
        "colab": {
          "base_uri": "https://localhost:8080/",
          "height": 90
        },
        "outputId": "520501a6-566f-4b4e-c8fc-45dc29bb6502"
      },
      "source": [
        "svm_clf.fit(XM_train_1, yM1_train)"
      ],
      "execution_count": 69,
      "outputs": [
        {
          "output_type": "execute_result",
          "data": {
            "text/plain": [
              "SVC(C=4.381, break_ties=False, cache_size=200, class_weight=None, coef0=0.0,\n",
              "    decision_function_shape='ovr', degree=3, gamma=0.1506, kernel='rbf',\n",
              "    max_iter=-1, probability=True, random_state=3, shrinking=True, tol=0.001,\n",
              "    verbose=False)"
            ]
          },
          "metadata": {
            "tags": []
          },
          "execution_count": 69
        }
      ]
    },
    {
      "cell_type": "code",
      "metadata": {
        "id": "ZJyb_gPtrNmR",
        "colab_type": "code",
        "colab": {
          "base_uri": "https://localhost:8080/",
          "height": 591
        },
        "outputId": "abab974d-d7d7-49ca-aeee-3a9120cbdf18"
      },
      "source": [
        "for clf in (lr_clf, svm_clf):\n",
        "    #plot_predictions(clf)\n",
        "    plt.title(clf.__class__.__name__)\n",
        "    plot_decision_boundary(clf,XM_train_1,yM1_train,axes=Axis_M)\n",
        "    plot_dataset(XM_train_1,yM1_train,axes=Axis_M)\n",
        "    plt.show()"
      ],
      "execution_count": 72,
      "outputs": [
        {
          "output_type": "display_data",
          "data": {
            "image/png": "[encoded data removed]",
            "text/plain": [
              "<Figure size 432x288 with 1 Axes>"
            ]
          },
          "metadata": {
            "tags": [],
            "needs_background": "light"
          }
        },
        {
          "output_type": "display_data",
          "data": {
            "image/png": "[encoded data removed]",
            "text/plain": [
              "<Figure size 432x288 with 1 Axes>"
            ]
          },
          "metadata": {
            "tags": [],
            "needs_background": "light"
          }
        }
      ]
    },
    {
      "cell_type": "code",
      "metadata": {
        "id": "F_3SzghYsUKb",
        "colab_type": "code",
        "colab": {
          "base_uri": "https://localhost:8080/",
          "height": 54
        },
        "outputId": "5d384a29-bd33-464f-9887-f4e9841962a2"
      },
      "source": [
        "lr_clf.fit(XM_test_1, yM1_test)\n",
        "ylr_pred_M = lr_clf.predict(XM_test_1)\n",
        "CM_lr_M=confusion_matrix(yM1_test,ylr_pred_M)\n",
        "print(CM_lr_M)"
      ],
      "execution_count": 80,
      "outputs": [
        {
          "output_type": "stream",
          "text": [
            "[[41  5]\n",
            " [ 6 40]]\n"
          ],
          "name": "stdout"
        }
      ]
    },
    {
      "cell_type": "code",
      "metadata": {
        "id": "sRrWuDkpsIiA",
        "colab_type": "code",
        "colab": {
          "base_uri": "https://localhost:8080/",
          "height": 54
        },
        "outputId": "022a520c-0268-4c39-99fc-e9ad747afa72"
      },
      "source": [
        "svm_clf.fit(XM_test_1, yM1_test)\n",
        "ysvm_pred_M = svm_clf.predict(XM_test_1)\n",
        "CM_svm_M=confusion_matrix(yM1_test,ysvm_pred_M)\n",
        "print(CM_svm_M)"
      ],
      "execution_count": 81,
      "outputs": [
        {
          "output_type": "stream",
          "text": [
            "[[41  5]\n",
            " [ 6 40]]\n"
          ],
          "name": "stdout"
        }
      ]
    },
    {
      "cell_type": "code",
      "metadata": {
        "id": "RQ0ro98gsaih",
        "colab_type": "code",
        "colab": {
          "base_uri": "https://localhost:8080/",
          "height": 591
        },
        "outputId": "3d333a91-e81d-4346-f152-fda69af3cdcb"
      },
      "source": [
        "for clf in (lr_clf, svm_clf):\n",
        "    #plot_predictions(clf)\n",
        "    plt.title(clf.__class__.__name__)\n",
        "    plot_decision_boundary(clf,XM_test_1,yM1_test,axes=Axis_M)\n",
        "    plot_dataset(XM_test_1,yM1_test,axes=Axis_M)\n",
        "    plt.show()"
      ],
      "execution_count": 82,
      "outputs": [
        {
          "output_type": "display_data",
          "data": {
            "image/png": "[encoded data removed]",
            "text/plain": [
              "<Figure size 432x288 with 1 Axes>"
            ]
          },
          "metadata": {
            "tags": [],
            "needs_background": "light"
          }
        },
        {
          "output_type": "display_data",
          "data": {
            "image/png": "[encoded data removed]",
            "text/plain": [
              "<Figure size 432x288 with 1 Axes>"
            ]
          },
          "metadata": {
            "tags": [],
            "needs_background": "light"
          }
        }
      ]
    }
  ]
}